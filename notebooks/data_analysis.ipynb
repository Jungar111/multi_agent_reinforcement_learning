{
 "cells": [
  {
   "cell_type": "markdown",
   "id": "e4381532-7e10-423a-b80c-502cf3a38519",
   "metadata": {},
   "source": [
    "# Data analysis of NYC4x4 data"
   ]
  },
  {
   "cell_type": "markdown",
   "id": "c691fe00-7cbb-4c7d-9a1a-47599fd97524",
   "metadata": {},
   "source": [
    "# Imports and data loading"
   ]
  },
  {
   "cell_type": "code",
   "execution_count": 1,
   "id": "4e4636c7-c8f5-4143-886d-a8340247ac38",
   "metadata": {},
   "outputs": [],
   "source": [
    "import os\n",
    "os.chdir(\"..\")"
   ]
  },
  {
   "cell_type": "code",
   "execution_count": 18,
   "id": "59161c60-51e5-495a-be16-4d4e0a120c9e",
   "metadata": {},
   "outputs": [],
   "source": [
    "import multi_agent_reinforcement_learning\n",
    "import json\n",
    "import pandas as pd\n",
    "import matplotlib.pyplot as plt\n",
    "import seaborn as sns\n",
    "import numpy as np\n",
    "from scipy.stats import lognorm\n",
    "import statsmodels.formula.api as smf"
   ]
  },
  {
   "cell_type": "code",
   "execution_count": 5,
   "id": "0df2197a-fb17-4125-b75f-e220ee6ee339",
   "metadata": {},
   "outputs": [],
   "source": [
    "with open(\"data/scenario_nyc4x4.json\") as f:\n",
    "    data = json.loads(f.read())"
   ]
  },
  {
   "cell_type": "code",
   "execution_count": 6,
   "id": "5048a128-e916-459e-a2d3-3caaa6371a12",
   "metadata": {},
   "outputs": [],
   "source": [
    "df = pd.DataFrame(data[\"demand\"])"
   ]
  },
  {
   "cell_type": "code",
   "execution_count": 7,
   "id": "9c84a04c-2550-4856-bd2f-a4bb035b229d",
   "metadata": {},
   "outputs": [
    {
     "data": {
      "text/html": [
       "<div>\n",
       "<style scoped>\n",
       "    .dataframe tbody tr th:only-of-type {\n",
       "        vertical-align: middle;\n",
       "    }\n",
       "\n",
       "    .dataframe tbody tr th {\n",
       "        vertical-align: top;\n",
       "    }\n",
       "\n",
       "    .dataframe thead th {\n",
       "        text-align: right;\n",
       "    }\n",
       "</style>\n",
       "<table border=\"1\" class=\"dataframe\">\n",
       "  <thead>\n",
       "    <tr style=\"text-align: right;\">\n",
       "      <th></th>\n",
       "      <th>time_stamp</th>\n",
       "      <th>origin</th>\n",
       "      <th>destination</th>\n",
       "      <th>demand</th>\n",
       "      <th>travel_time</th>\n",
       "      <th>price</th>\n",
       "    </tr>\n",
       "  </thead>\n",
       "  <tbody>\n",
       "    <tr>\n",
       "      <th>0</th>\n",
       "      <td>0</td>\n",
       "      <td>5</td>\n",
       "      <td>5</td>\n",
       "      <td>0.6</td>\n",
       "      <td>4.105556</td>\n",
       "      <td>6.5</td>\n",
       "    </tr>\n",
       "    <tr>\n",
       "      <th>1</th>\n",
       "      <td>1</td>\n",
       "      <td>5</td>\n",
       "      <td>5</td>\n",
       "      <td>0.6</td>\n",
       "      <td>4.105556</td>\n",
       "      <td>6.5</td>\n",
       "    </tr>\n",
       "    <tr>\n",
       "      <th>2</th>\n",
       "      <td>2</td>\n",
       "      <td>5</td>\n",
       "      <td>5</td>\n",
       "      <td>0.6</td>\n",
       "      <td>4.105556</td>\n",
       "      <td>6.5</td>\n",
       "    </tr>\n",
       "    <tr>\n",
       "      <th>3</th>\n",
       "      <td>3</td>\n",
       "      <td>5</td>\n",
       "      <td>5</td>\n",
       "      <td>0.6</td>\n",
       "      <td>4.105556</td>\n",
       "      <td>6.5</td>\n",
       "    </tr>\n",
       "    <tr>\n",
       "      <th>4</th>\n",
       "      <td>4</td>\n",
       "      <td>5</td>\n",
       "      <td>5</td>\n",
       "      <td>0.6</td>\n",
       "      <td>4.105556</td>\n",
       "      <td>6.5</td>\n",
       "    </tr>\n",
       "  </tbody>\n",
       "</table>\n",
       "</div>"
      ],
      "text/plain": [
       "   time_stamp  origin  destination  demand  travel_time  price\n",
       "0           0       5            5     0.6     4.105556    6.5\n",
       "1           1       5            5     0.6     4.105556    6.5\n",
       "2           2       5            5     0.6     4.105556    6.5\n",
       "3           3       5            5     0.6     4.105556    6.5\n",
       "4           4       5            5     0.6     4.105556    6.5"
      ]
     },
     "execution_count": 7,
     "metadata": {},
     "output_type": "execute_result"
    }
   ],
   "source": [
    "df.head()"
   ]
  },
  {
   "cell_type": "markdown",
   "id": "895fb575-5ccd-4518-be4d-5010222f3bf8",
   "metadata": {},
   "source": [
    "# Simple summary stats"
   ]
  },
  {
   "cell_type": "code",
   "execution_count": 8,
   "id": "cb4340ab-3165-433d-b95a-bda88366afc2",
   "metadata": {},
   "outputs": [],
   "source": [
    "df_org_dest = df.groupby([\"origin\", \"destination\"]).agg({\"price\": [\"count\", \"mean\"], \"demand\": \"mean\", \"travel_time\":\"mean\"}).reset_index()"
   ]
  },
  {
   "cell_type": "code",
   "execution_count": 9,
   "id": "43fbc8bd-2a40-4f63-aa21-26ddd22394ae",
   "metadata": {
    "scrolled": true
   },
   "outputs": [
    {
     "data": {
      "text/html": [
       "<div>\n",
       "<style scoped>\n",
       "    .dataframe tbody tr th:only-of-type {\n",
       "        vertical-align: middle;\n",
       "    }\n",
       "\n",
       "    .dataframe tbody tr th {\n",
       "        vertical-align: top;\n",
       "    }\n",
       "\n",
       "    .dataframe thead tr th {\n",
       "        text-align: left;\n",
       "    }\n",
       "</style>\n",
       "<table border=\"1\" class=\"dataframe\">\n",
       "  <thead>\n",
       "    <tr>\n",
       "      <th></th>\n",
       "      <th>origin</th>\n",
       "      <th>destination</th>\n",
       "      <th colspan=\"2\" halign=\"left\">price</th>\n",
       "      <th>demand</th>\n",
       "      <th>travel_time</th>\n",
       "    </tr>\n",
       "    <tr>\n",
       "      <th></th>\n",
       "      <th></th>\n",
       "      <th></th>\n",
       "      <th>count</th>\n",
       "      <th>mean</th>\n",
       "      <th>mean</th>\n",
       "      <th>mean</th>\n",
       "    </tr>\n",
       "  </thead>\n",
       "  <tbody>\n",
       "    <tr>\n",
       "      <th>0</th>\n",
       "      <td>0</td>\n",
       "      <td>0</td>\n",
       "      <td>1320</td>\n",
       "      <td>7.418935</td>\n",
       "      <td>0.194697</td>\n",
       "      <td>5.098273</td>\n",
       "    </tr>\n",
       "    <tr>\n",
       "      <th>1</th>\n",
       "      <td>0</td>\n",
       "      <td>1</td>\n",
       "      <td>1230</td>\n",
       "      <td>6.432661</td>\n",
       "      <td>0.235772</td>\n",
       "      <td>4.174467</td>\n",
       "    </tr>\n",
       "    <tr>\n",
       "      <th>2</th>\n",
       "      <td>0</td>\n",
       "      <td>2</td>\n",
       "      <td>1260</td>\n",
       "      <td>7.594516</td>\n",
       "      <td>0.326984</td>\n",
       "      <td>5.456276</td>\n",
       "    </tr>\n",
       "    <tr>\n",
       "      <th>3</th>\n",
       "      <td>0</td>\n",
       "      <td>3</td>\n",
       "      <td>1245</td>\n",
       "      <td>9.239509</td>\n",
       "      <td>0.224096</td>\n",
       "      <td>7.088674</td>\n",
       "    </tr>\n",
       "    <tr>\n",
       "      <th>4</th>\n",
       "      <td>0</td>\n",
       "      <td>4</td>\n",
       "      <td>1335</td>\n",
       "      <td>7.739372</td>\n",
       "      <td>0.330337</td>\n",
       "      <td>6.533852</td>\n",
       "    </tr>\n",
       "  </tbody>\n",
       "</table>\n",
       "</div>"
      ],
      "text/plain": [
       "  origin destination price              demand travel_time\n",
       "                     count      mean      mean        mean\n",
       "0      0           0  1320  7.418935  0.194697    5.098273\n",
       "1      0           1  1230  6.432661  0.235772    4.174467\n",
       "2      0           2  1260  7.594516  0.326984    5.456276\n",
       "3      0           3  1245  9.239509  0.224096    7.088674\n",
       "4      0           4  1335  7.739372  0.330337    6.533852"
      ]
     },
     "execution_count": 9,
     "metadata": {},
     "output_type": "execute_result"
    }
   ],
   "source": [
    "df_org_dest.head()"
   ]
  },
  {
   "cell_type": "code",
   "execution_count": 10,
   "id": "64eda33d-14c8-4bba-b6b2-deef4c121205",
   "metadata": {},
   "outputs": [],
   "source": [
    "df_org_dest.columns = df_org_dest.columns.droplevel(0)\n",
    "df_org_dest.columns = [\"org\", \"dest\", \"count\", \"mean_price\", \"mean_demand\", \"mean_travel_time\"]"
   ]
  },
  {
   "cell_type": "code",
   "execution_count": 11,
   "id": "cc9a2914-61e1-4f91-af30-7109023d7e63",
   "metadata": {},
   "outputs": [
    {
     "data": {
      "text/html": [
       "<div>\n",
       "<style scoped>\n",
       "    .dataframe tbody tr th:only-of-type {\n",
       "        vertical-align: middle;\n",
       "    }\n",
       "\n",
       "    .dataframe tbody tr th {\n",
       "        vertical-align: top;\n",
       "    }\n",
       "\n",
       "    .dataframe thead th {\n",
       "        text-align: right;\n",
       "    }\n",
       "</style>\n",
       "<table border=\"1\" class=\"dataframe\">\n",
       "  <thead>\n",
       "    <tr style=\"text-align: right;\">\n",
       "      <th></th>\n",
       "      <th>time_stamp</th>\n",
       "      <th>origin</th>\n",
       "      <th>destination</th>\n",
       "      <th>demand</th>\n",
       "      <th>travel_time</th>\n",
       "      <th>price</th>\n",
       "    </tr>\n",
       "  </thead>\n",
       "  <tbody>\n",
       "    <tr>\n",
       "      <th>count</th>\n",
       "      <td>281760.000000</td>\n",
       "      <td>281760.000000</td>\n",
       "      <td>281760.000000</td>\n",
       "      <td>281760.000000</td>\n",
       "      <td>281760.000000</td>\n",
       "      <td>281760.000000</td>\n",
       "    </tr>\n",
       "    <tr>\n",
       "      <th>mean</th>\n",
       "      <td>784.571603</td>\n",
       "      <td>7.243239</td>\n",
       "      <td>7.332836</td>\n",
       "      <td>0.368732</td>\n",
       "      <td>8.596823</td>\n",
       "      <td>9.384479</td>\n",
       "    </tr>\n",
       "    <tr>\n",
       "      <th>std</th>\n",
       "      <td>397.244680</td>\n",
       "      <td>4.360040</td>\n",
       "      <td>4.401259</td>\n",
       "      <td>0.378120</td>\n",
       "      <td>4.375876</td>\n",
       "      <td>3.188406</td>\n",
       "    </tr>\n",
       "    <tr>\n",
       "      <th>min</th>\n",
       "      <td>0.000000</td>\n",
       "      <td>0.000000</td>\n",
       "      <td>0.000000</td>\n",
       "      <td>0.066667</td>\n",
       "      <td>0.000000</td>\n",
       "      <td>3.000000</td>\n",
       "    </tr>\n",
       "    <tr>\n",
       "      <th>25%</th>\n",
       "      <td>489.000000</td>\n",
       "      <td>4.000000</td>\n",
       "      <td>4.000000</td>\n",
       "      <td>0.133333</td>\n",
       "      <td>5.539722</td>\n",
       "      <td>7.405417</td>\n",
       "    </tr>\n",
       "    <tr>\n",
       "      <th>50%</th>\n",
       "      <td>804.000000</td>\n",
       "      <td>7.000000</td>\n",
       "      <td>7.000000</td>\n",
       "      <td>0.266667</td>\n",
       "      <td>7.904167</td>\n",
       "      <td>8.930000</td>\n",
       "    </tr>\n",
       "    <tr>\n",
       "      <th>75%</th>\n",
       "      <td>1122.000000</td>\n",
       "      <td>11.000000</td>\n",
       "      <td>11.000000</td>\n",
       "      <td>0.466667</td>\n",
       "      <td>10.877976</td>\n",
       "      <td>10.800000</td>\n",
       "    </tr>\n",
       "    <tr>\n",
       "      <th>max</th>\n",
       "      <td>1439.000000</td>\n",
       "      <td>15.000000</td>\n",
       "      <td>15.000000</td>\n",
       "      <td>4.200000</td>\n",
       "      <td>110.000000</td>\n",
       "      <td>95.350000</td>\n",
       "    </tr>\n",
       "  </tbody>\n",
       "</table>\n",
       "</div>"
      ],
      "text/plain": [
       "          time_stamp         origin    destination         demand  \\\n",
       "count  281760.000000  281760.000000  281760.000000  281760.000000   \n",
       "mean      784.571603       7.243239       7.332836       0.368732   \n",
       "std       397.244680       4.360040       4.401259       0.378120   \n",
       "min         0.000000       0.000000       0.000000       0.066667   \n",
       "25%       489.000000       4.000000       4.000000       0.133333   \n",
       "50%       804.000000       7.000000       7.000000       0.266667   \n",
       "75%      1122.000000      11.000000      11.000000       0.466667   \n",
       "max      1439.000000      15.000000      15.000000       4.200000   \n",
       "\n",
       "         travel_time          price  \n",
       "count  281760.000000  281760.000000  \n",
       "mean        8.596823       9.384479  \n",
       "std         4.375876       3.188406  \n",
       "min         0.000000       3.000000  \n",
       "25%         5.539722       7.405417  \n",
       "50%         7.904167       8.930000  \n",
       "75%        10.877976      10.800000  \n",
       "max       110.000000      95.350000  "
      ]
     },
     "execution_count": 11,
     "metadata": {},
     "output_type": "execute_result"
    }
   ],
   "source": [
    "df.describe()"
   ]
  },
  {
   "cell_type": "markdown",
   "id": "91848182-845a-40bd-9d48-5742fb15e11b",
   "metadata": {},
   "source": [
    "# Grid analysis"
   ]
  },
  {
   "cell_type": "code",
   "execution_count": 12,
   "id": "7dd3e1c1-f776-439c-ab22-64e50091251c",
   "metadata": {},
   "outputs": [],
   "source": [
    "pivot_df = df_org_dest.pivot(index='org', columns='dest', values='count')"
   ]
  },
  {
   "cell_type": "code",
   "execution_count": 13,
   "id": "bce95db1-c491-413e-b1b0-5a42d8da7b9b",
   "metadata": {},
   "outputs": [
    {
     "data": {
      "image/png": "[encoded data removed]",
      "text/plain": [
       "<Figure size 640x480 with 2 Axes>"
      ]
     },
     "metadata": {},
     "output_type": "display_data"
    }
   ],
   "source": [
    "sns.heatmap(pivot_df, annot=False, fmt=\"d\")\n",
    "plt.title('Distribution of trips')\n",
    "plt.xlabel('Destination')\n",
    "plt.ylabel('Origin')\n",
    "plt.show()"
   ]
  },
  {
   "cell_type": "markdown",
   "id": "93d4bf18-3442-40a4-92c6-80726802ad1b",
   "metadata": {},
   "source": [
    "# Travel time analysis"
   ]
  },
  {
   "cell_type": "code",
   "execution_count": 14,
   "id": "029b4a60-67e7-4069-a602-c9abdbeb1059",
   "metadata": {},
   "outputs": [
    {
     "name": "stderr",
     "output_type": "stream",
     "text": [
      "/home/asger/Documents/DTU/Speciale/multi_agent_reinforcement_learning/.venv/lib/python3.10/site-packages/seaborn/_oldcore.py:1498: FutureWarning: is_categorical_dtype is deprecated and will be removed in a future version. Use isinstance(dtype, CategoricalDtype) instead\n",
      "  if pd.api.types.is_categorical_dtype(vector):\n",
      "/home/asger/Documents/DTU/Speciale/multi_agent_reinforcement_learning/.venv/lib/python3.10/site-packages/seaborn/_oldcore.py:1119: FutureWarning: use_inf_as_na option is deprecated and will be removed in a future version. Convert inf values to NaN before operating instead.\n",
      "  with pd.option_context('mode.use_inf_as_na', True):\n"
     ]
    },
    {
     "data": {
      "image/png": "[encoded data removed]",
      "text/plain": [
       "<Figure size 640x480 with 1 Axes>"
      ]
     },
     "metadata": {},
     "output_type": "display_data"
    }
   ],
   "source": [
    "x = np.linspace(0, 100, 1000)\n",
    "fitted_params = lognorm.fit(df[\"travel_time\"])\n",
    "sns.histplot(df[\"travel_time\"], bins=70, stat=\"density\")\n",
    "plt.plot(x, lognorm(*fitted_params).pdf(x), color=\"#2F4550\")\n",
    "plt.title(\"Distribution of travel time\")\n",
    "plt.show()"
   ]
  },
  {
   "cell_type": "markdown",
   "id": "a5bb3741-1314-4093-a5a2-ecd28fd83eab",
   "metadata": {},
   "source": [
    "# Price analysis"
   ]
  },
  {
   "cell_type": "code",
   "execution_count": 15,
   "id": "1d013b52-37c4-4021-89d0-19c4ab5b9cbd",
   "metadata": {},
   "outputs": [
    {
     "name": "stderr",
     "output_type": "stream",
     "text": [
      "/home/asger/Documents/DTU/Speciale/multi_agent_reinforcement_learning/.venv/lib/python3.10/site-packages/seaborn/_oldcore.py:1498: FutureWarning: is_categorical_dtype is deprecated and will be removed in a future version. Use isinstance(dtype, CategoricalDtype) instead\n",
      "  if pd.api.types.is_categorical_dtype(vector):\n",
      "/home/asger/Documents/DTU/Speciale/multi_agent_reinforcement_learning/.venv/lib/python3.10/site-packages/seaborn/_oldcore.py:1119: FutureWarning: use_inf_as_na option is deprecated and will be removed in a future version. Convert inf values to NaN before operating instead.\n",
      "  with pd.option_context('mode.use_inf_as_na', True):\n"
     ]
    },
    {
     "data": {
      "image/png": "[encoded data removed]",
      "text/plain": [
       "<Figure size 640x480 with 1 Axes>"
      ]
     },
     "metadata": {},
     "output_type": "display_data"
    }
   ],
   "source": [
    "x = np.linspace(0, 100, 1000)\n",
    "fitted_params = lognorm.fit(df[\"price\"])\n",
    "sns.histplot(df[\"price\"], bins=70, stat=\"density\")\n",
    "plt.plot(x, lognorm(*fitted_params).pdf(x), color=\"#2F4550\")\n",
    "plt.title(\"Distribution of price\")\n",
    "plt.show()"
   ]
  },
  {
   "cell_type": "code",
   "execution_count": 21,
   "id": "08a7f48c-3210-4480-bab8-3add6ed33e36",
   "metadata": {},
   "outputs": [
    {
     "data": {
      "text/html": [
       "<div>\n",
       "<style scoped>\n",
       "    .dataframe tbody tr th:only-of-type {\n",
       "        vertical-align: middle;\n",
       "    }\n",
       "\n",
       "    .dataframe tbody tr th {\n",
       "        vertical-align: top;\n",
       "    }\n",
       "\n",
       "    .dataframe thead th {\n",
       "        text-align: right;\n",
       "    }\n",
       "</style>\n",
       "<table border=\"1\" class=\"dataframe\">\n",
       "  <thead>\n",
       "    <tr style=\"text-align: right;\">\n",
       "      <th></th>\n",
       "      <th>time_stamp</th>\n",
       "      <th>origin</th>\n",
       "      <th>destination</th>\n",
       "      <th>demand</th>\n",
       "      <th>travel_time</th>\n",
       "      <th>price</th>\n",
       "    </tr>\n",
       "  </thead>\n",
       "  <tbody>\n",
       "    <tr>\n",
       "      <th>0</th>\n",
       "      <td>0</td>\n",
       "      <td>5</td>\n",
       "      <td>5</td>\n",
       "      <td>0.6</td>\n",
       "      <td>4.105556</td>\n",
       "      <td>6.5</td>\n",
       "    </tr>\n",
       "    <tr>\n",
       "      <th>1</th>\n",
       "      <td>1</td>\n",
       "      <td>5</td>\n",
       "      <td>5</td>\n",
       "      <td>0.6</td>\n",
       "      <td>4.105556</td>\n",
       "      <td>6.5</td>\n",
       "    </tr>\n",
       "    <tr>\n",
       "      <th>2</th>\n",
       "      <td>2</td>\n",
       "      <td>5</td>\n",
       "      <td>5</td>\n",
       "      <td>0.6</td>\n",
       "      <td>4.105556</td>\n",
       "      <td>6.5</td>\n",
       "    </tr>\n",
       "    <tr>\n",
       "      <th>3</th>\n",
       "      <td>3</td>\n",
       "      <td>5</td>\n",
       "      <td>5</td>\n",
       "      <td>0.6</td>\n",
       "      <td>4.105556</td>\n",
       "      <td>6.5</td>\n",
       "    </tr>\n",
       "    <tr>\n",
       "      <th>4</th>\n",
       "      <td>4</td>\n",
       "      <td>5</td>\n",
       "      <td>5</td>\n",
       "      <td>0.6</td>\n",
       "      <td>4.105556</td>\n",
       "      <td>6.5</td>\n",
       "    </tr>\n",
       "  </tbody>\n",
       "</table>\n",
       "</div>"
      ],
      "text/plain": [
       "   time_stamp  origin  destination  demand  travel_time  price\n",
       "0           0       5            5     0.6     4.105556    6.5\n",
       "1           1       5            5     0.6     4.105556    6.5\n",
       "2           2       5            5     0.6     4.105556    6.5\n",
       "3           3       5            5     0.6     4.105556    6.5\n",
       "4           4       5            5     0.6     4.105556    6.5"
      ]
     },
     "execution_count": 21,
     "metadata": {},
     "output_type": "execute_result"
    }
   ],
   "source": [
    "df.head()"
   ]
  },
  {
   "cell_type": "code",
   "execution_count": 109,
   "id": "1225248a-cfc7-42d1-8243-22dcc96a75ba",
   "metadata": {},
   "outputs": [],
   "source": [
    "pred_df = df.copy()"
   ]
  },
  {
   "cell_type": "code",
   "execution_count": 151,
   "id": "badfd7d9-21e6-43bc-94a1-37165689a496",
   "metadata": {},
   "outputs": [],
   "source": [
    "pred_df[\"poly_travel_time\"] = pred_df[\"travel_time\"]**2\n",
    "pred_df[\"poly_demand\"] = pred_df[\"demand\"]**2\n",
    "pred_df[\"log_price\"] = np.log(pred_df[\"price\"])"
   ]
  },
  {
   "cell_type": "code",
   "execution_count": 152,
   "id": "4a26c314-3fcd-4835-af15-fb592f570b0b",
   "metadata": {},
   "outputs": [],
   "source": [
    "glm_model = smf.glm(formula=\"log_price ~ travel_time + demand\", data=pred_df, family=sm.families.Gaussian())"
   ]
  },
  {
   "cell_type": "code",
   "execution_count": 153,
   "id": "b1eb71f7-3458-48a7-bb14-93dee7ee3129",
   "metadata": {},
   "outputs": [],
   "source": [
    "fitted_glm = glm_model.fit()"
   ]
  },
  {
   "cell_type": "code",
   "execution_count": 154,
   "id": "ffad7b24-6150-464c-bf9a-8a0e750aacd6",
   "metadata": {},
   "outputs": [
    {
     "data": {
      "text/html": [
       "<table class=\"simpletable\">\n",
       "<caption>Generalized Linear Model Regression Results</caption>\n",
       "<tr>\n",
       "  <th>Dep. Variable:</th>       <td>log_price</td>    <th>  No. Observations:  </th>   <td>281760</td>  \n",
       "</tr>\n",
       "<tr>\n",
       "  <th>Model:</th>                  <td>GLM</td>       <th>  Df Residuals:      </th>   <td>281757</td>  \n",
       "</tr>\n",
       "<tr>\n",
       "  <th>Model Family:</th>        <td>Gaussian</td>     <th>  Df Model:          </th>   <td>     2</td>  \n",
       "</tr>\n",
       "<tr>\n",
       "  <th>Link Function:</th>       <td>Identity</td>     <th>  Scale:             </th>  <td>0.023548</td> \n",
       "</tr>\n",
       "<tr>\n",
       "  <th>Method:</th>                <td>IRLS</td>       <th>  Log-Likelihood:    </th> <td>1.2832e+05</td>\n",
       "</tr>\n",
       "<tr>\n",
       "  <th>Date:</th>            <td>Mon, 25 Sep 2023</td> <th>  Deviance:          </th>  <td>  6634.8</td> \n",
       "</tr>\n",
       "<tr>\n",
       "  <th>Time:</th>                <td>12:14:54</td>     <th>  Pearson chi2:      </th>  <td>6.63e+03</td> \n",
       "</tr>\n",
       "<tr>\n",
       "  <th>No. Iterations:</th>          <td>3</td>        <th>  Pseudo R-squ. (CS):</th>   <td>0.9211</td>  \n",
       "</tr>\n",
       "<tr>\n",
       "  <th>Covariance Type:</th>     <td>nonrobust</td>    <th>                     </th>      <td> </td>    \n",
       "</tr>\n",
       "</table>\n",
       "<table class=\"simpletable\">\n",
       "<tr>\n",
       "       <td></td>          <th>coef</th>     <th>std err</th>      <th>z</th>      <th>P>|z|</th>  <th>[0.025</th>    <th>0.975]</th>  \n",
       "</tr>\n",
       "<tr>\n",
       "  <th>Intercept</th>   <td>    1.7377</td> <td>    0.001</td> <td> 2430.063</td> <td> 0.000</td> <td>    1.736</td> <td>    1.739</td>\n",
       "</tr>\n",
       "<tr>\n",
       "  <th>travel_time</th> <td>    0.0554</td> <td> 6.62e-05</td> <td>  836.216</td> <td> 0.000</td> <td>    0.055</td> <td>    0.056</td>\n",
       "</tr>\n",
       "<tr>\n",
       "  <th>demand</th>      <td>   -0.0505</td> <td>    0.001</td> <td>  -65.924</td> <td> 0.000</td> <td>   -0.052</td> <td>   -0.049</td>\n",
       "</tr>\n",
       "</table>"
      ],
      "text/latex": [
       "\\begin{center}\n",
       "\\begin{tabular}{lclc}\n",
       "\\toprule\n",
       "\\textbf{Dep. Variable:}   &    log\\_price    & \\textbf{  No. Observations:  } &   281760    \\\\\n",
       "\\textbf{Model:}           &       GLM        & \\textbf{  Df Residuals:      } &   281757    \\\\\n",
       "\\textbf{Model Family:}    &     Gaussian     & \\textbf{  Df Model:          } &        2    \\\\\n",
       "\\textbf{Link Function:}   &     Identity     & \\textbf{  Scale:             } &  0.023548   \\\\\n",
       "\\textbf{Method:}          &       IRLS       & \\textbf{  Log-Likelihood:    } & 1.2832e+05  \\\\\n",
       "\\textbf{Date:}            & Mon, 25 Sep 2023 & \\textbf{  Deviance:          } &    6634.8   \\\\\n",
       "\\textbf{Time:}            &     12:14:54     & \\textbf{  Pearson chi2:      } &  6.63e+03   \\\\\n",
       "\\textbf{No. Iterations:}  &        3         & \\textbf{  Pseudo R-squ. (CS):} &   0.9211    \\\\\n",
       "\\textbf{Covariance Type:} &    nonrobust     & \\textbf{                     } &             \\\\\n",
       "\\bottomrule\n",
       "\\end{tabular}\n",
       "\\begin{tabular}{lcccccc}\n",
       "                      & \\textbf{coef} & \\textbf{std err} & \\textbf{z} & \\textbf{P$> |$z$|$} & \\textbf{[0.025} & \\textbf{0.975]}  \\\\\n",
       "\\midrule\n",
       "\\textbf{Intercept}    &       1.7377  &        0.001     &  2430.063  &         0.000        &        1.736    &        1.739     \\\\\n",
       "\\textbf{travel\\_time} &       0.0554  &     6.62e-05     &   836.216  &         0.000        &        0.055    &        0.056     \\\\\n",
       "\\textbf{demand}       &      -0.0505  &        0.001     &   -65.924  &         0.000        &       -0.052    &       -0.049     \\\\\n",
       "\\bottomrule\n",
       "\\end{tabular}\n",
       "%\\caption{Generalized Linear Model Regression Results}\n",
       "\\end{center}"
      ],
      "text/plain": [
       "<class 'statsmodels.iolib.summary.Summary'>\n",
       "\"\"\"\n",
       "                 Generalized Linear Model Regression Results                  \n",
       "==============================================================================\n",
       "Dep. Variable:              log_price   No. Observations:               281760\n",
       "Model:                            GLM   Df Residuals:                   281757\n",
       "Model Family:                Gaussian   Df Model:                            2\n",
       "Link Function:               Identity   Scale:                        0.023548\n",
       "Method:                          IRLS   Log-Likelihood:             1.2832e+05\n",
       "Date:                Mon, 25 Sep 2023   Deviance:                       6634.8\n",
       "Time:                        12:14:54   Pearson chi2:                 6.63e+03\n",
       "No. Iterations:                     3   Pseudo R-squ. (CS):             0.9211\n",
       "Covariance Type:            nonrobust                                         \n",
       "===============================================================================\n",
       "                  coef    std err          z      P>|z|      [0.025      0.975]\n",
       "-------------------------------------------------------------------------------\n",
       "Intercept       1.7377      0.001   2430.063      0.000       1.736       1.739\n",
       "travel_time     0.0554   6.62e-05    836.216      0.000       0.055       0.056\n",
       "demand         -0.0505      0.001    -65.924      0.000      -0.052      -0.049\n",
       "===============================================================================\n",
       "\"\"\""
      ]
     },
     "execution_count": 154,
     "metadata": {},
     "output_type": "execute_result"
    }
   ],
   "source": [
    "fitted_glm.summary()"
   ]
  },
  {
   "cell_type": "code",
   "execution_count": 162,
   "id": "70079ad9-3764-4539-9cef-570876dd702c",
   "metadata": {},
   "outputs": [
    {
     "data": {
      "image/png": "[encoded data removed]",
      "text/plain": [
       "<Figure size 640x480 with 1 Axes>"
      ]
     },
     "metadata": {},
     "output_type": "display_data"
    }
   ],
   "source": [
    "plt.scatter(pred_df[\"log_price\"], fitted_glm.resid_pearson)\n",
    "plt.hlines(y=0, xmin=1, xmax=5, color=\"#2F4550\")\n",
    "plt.xlabel(\"log(Price)\")\n",
    "plt.ylabel(\"Pearson Residual\")\n",
    "plt.title(\"Residuals of GLM\")\n",
    "plt.show()"
   ]
  },
  {
   "cell_type": "code",
   "execution_count": null,
   "id": "45c1a663-4056-4169-b5a5-1bc4c43b1ff2",
   "metadata": {},
   "outputs": [],
   "source": []
  }
 ],
 "metadata": {
  "kernelspec": {
   "display_name": "Python 3 (ipykernel)",
   "language": "python",
   "name": "python3"
  },
  "language_info": {
   "codemirror_mode": {
    "name": "ipython",
    "version": 3
   },
   "file_extension": ".py",
   "mimetype": "text/x-python",
   "name": "python",
   "nbconvert_exporter": "python",
   "pygments_lexer": "ipython3",
   "version": "3.10.4"
  }
 },
 "nbformat": 4,
 "nbformat_minor": 5
}
