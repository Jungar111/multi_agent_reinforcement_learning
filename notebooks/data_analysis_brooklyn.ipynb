{
 "cells": [
  {
   "cell_type": "code",
   "execution_count": 53,
   "id": "032ea78a-6c10-45bd-8825-8b694fd07e4d",
   "metadata": {},
   "outputs": [],
   "source": [
    "import os\n",
    "import json\n",
    "import pandas as pd\n",
    "import matplotlib.pyplot as plt\n",
    "import seaborn as sns\n",
    "import numpy as np\n",
    "from scipy.stats import lognorm\n",
    "import statsmodels.formula.api as smf\n",
    "import statsmodels.api as sm\n",
    "from scipy.optimize import minimize\n",
    "from sklearn.preprocessing import StandardScaler"
   ]
  },
  {
   "cell_type": "code",
   "execution_count": 54,
   "id": "38eba333-7ab0-4ed9-a6bd-d6b498e2d9c3",
   "metadata": {},
   "outputs": [],
   "source": [
    "\n",
    "cities = ['san_francisco', 'nyc_brooklyn', 'shenzhen_downtown_west', 'washington_dc']\n",
    "city = cities[3]\n",
    "with open(f\"../data/scenario_{city}.json\") as f:\n",
    "    data = json.loads(f.read())"
   ]
  },
  {
   "cell_type": "code",
   "execution_count": 55,
   "id": "9fa0c812-92a2-44e0-8cab-4ee73ce77891",
   "metadata": {},
   "outputs": [],
   "source": [
    "df = pd.DataFrame(data[\"demand\"])"
   ]
  },
  {
   "cell_type": "code",
   "execution_count": 44,
   "id": "5f14e9cb-1a48-4a5e-8124-5745d0626184",
   "metadata": {},
   "outputs": [
    {
     "data": {
      "text/html": [
       "<div>\n",
       "<style scoped>\n",
       "    .dataframe tbody tr th:only-of-type {\n",
       "        vertical-align: middle;\n",
       "    }\n",
       "\n",
       "    .dataframe tbody tr th {\n",
       "        vertical-align: top;\n",
       "    }\n",
       "\n",
       "    .dataframe thead th {\n",
       "        text-align: right;\n",
       "    }\n",
       "</style>\n",
       "<table border=\"1\" class=\"dataframe\">\n",
       "  <thead>\n",
       "    <tr style=\"text-align: right;\">\n",
       "      <th></th>\n",
       "      <th>time_stamp</th>\n",
       "      <th>origin</th>\n",
       "      <th>destination</th>\n",
       "      <th>demand</th>\n",
       "      <th>travel_time</th>\n",
       "      <th>price</th>\n",
       "    </tr>\n",
       "  </thead>\n",
       "  <tbody>\n",
       "    <tr>\n",
       "      <th>0</th>\n",
       "      <td>1185</td>\n",
       "      <td>5</td>\n",
       "      <td>9</td>\n",
       "      <td>0.066667</td>\n",
       "      <td>18</td>\n",
       "      <td>33.3</td>\n",
       "    </tr>\n",
       "    <tr>\n",
       "      <th>1</th>\n",
       "      <td>1185</td>\n",
       "      <td>7</td>\n",
       "      <td>9</td>\n",
       "      <td>0.133333</td>\n",
       "      <td>7</td>\n",
       "      <td>13.3</td>\n",
       "    </tr>\n",
       "    <tr>\n",
       "      <th>2</th>\n",
       "      <td>1185</td>\n",
       "      <td>8</td>\n",
       "      <td>9</td>\n",
       "      <td>1.466667</td>\n",
       "      <td>10</td>\n",
       "      <td>13.5</td>\n",
       "    </tr>\n",
       "    <tr>\n",
       "      <th>3</th>\n",
       "      <td>1185</td>\n",
       "      <td>9</td>\n",
       "      <td>7</td>\n",
       "      <td>0.266667</td>\n",
       "      <td>10</td>\n",
       "      <td>14.6</td>\n",
       "    </tr>\n",
       "    <tr>\n",
       "      <th>4</th>\n",
       "      <td>1185</td>\n",
       "      <td>8</td>\n",
       "      <td>7</td>\n",
       "      <td>1.333333</td>\n",
       "      <td>10</td>\n",
       "      <td>12.3</td>\n",
       "    </tr>\n",
       "    <tr>\n",
       "      <th>...</th>\n",
       "      <td>...</td>\n",
       "      <td>...</td>\n",
       "      <td>...</td>\n",
       "      <td>...</td>\n",
       "      <td>...</td>\n",
       "      <td>...</td>\n",
       "    </tr>\n",
       "    <tr>\n",
       "      <th>5365</th>\n",
       "      <td>1259</td>\n",
       "      <td>6</td>\n",
       "      <td>5</td>\n",
       "      <td>0.200000</td>\n",
       "      <td>16</td>\n",
       "      <td>22.7</td>\n",
       "    </tr>\n",
       "    <tr>\n",
       "      <th>5366</th>\n",
       "      <td>1259</td>\n",
       "      <td>4</td>\n",
       "      <td>5</td>\n",
       "      <td>0.066667</td>\n",
       "      <td>6</td>\n",
       "      <td>11.6</td>\n",
       "    </tr>\n",
       "    <tr>\n",
       "      <th>5367</th>\n",
       "      <td>1259</td>\n",
       "      <td>4</td>\n",
       "      <td>7</td>\n",
       "      <td>0.133333</td>\n",
       "      <td>10</td>\n",
       "      <td>16.5</td>\n",
       "    </tr>\n",
       "    <tr>\n",
       "      <th>5368</th>\n",
       "      <td>1259</td>\n",
       "      <td>7</td>\n",
       "      <td>3</td>\n",
       "      <td>0.066667</td>\n",
       "      <td>11</td>\n",
       "      <td>18.0</td>\n",
       "    </tr>\n",
       "    <tr>\n",
       "      <th>5369</th>\n",
       "      <td>1259</td>\n",
       "      <td>3</td>\n",
       "      <td>2</td>\n",
       "      <td>0.066667</td>\n",
       "      <td>8</td>\n",
       "      <td>14.1</td>\n",
       "    </tr>\n",
       "  </tbody>\n",
       "</table>\n",
       "<p>5370 rows × 6 columns</p>\n",
       "</div>"
      ],
      "text/plain": [
       "      time_stamp  origin  destination    demand  travel_time  price\n",
       "0           1185       5            9  0.066667           18   33.3\n",
       "1           1185       7            9  0.133333            7   13.3\n",
       "2           1185       8            9  1.466667           10   13.5\n",
       "3           1185       9            7  0.266667           10   14.6\n",
       "4           1185       8            7  1.333333           10   12.3\n",
       "...          ...     ...          ...       ...          ...    ...\n",
       "5365        1259       6            5  0.200000           16   22.7\n",
       "5366        1259       4            5  0.066667            6   11.6\n",
       "5367        1259       4            7  0.133333           10   16.5\n",
       "5368        1259       7            3  0.066667           11   18.0\n",
       "5369        1259       3            2  0.066667            8   14.1\n",
       "\n",
       "[5370 rows x 6 columns]"
      ]
     },
     "execution_count": 44,
     "metadata": {},
     "output_type": "execute_result"
    }
   ],
   "source": [
    "df"
   ]
  },
  {
   "cell_type": "code",
   "execution_count": 5,
   "id": "de96784e-8edf-4a19-84db-45ee2b662c9e",
   "metadata": {},
   "outputs": [
    {
     "data": {
      "text/plain": [
       "1.155"
      ]
     },
     "execution_count": 5,
     "metadata": {},
     "output_type": "execute_result"
    }
   ],
   "source": [
    "(df[\"price\"] / df[\"travel_time\"]).min()"
   ]
  },
  {
   "cell_type": "code",
   "execution_count": 6,
   "id": "9ca72f73-3bc4-4609-8257-4b448a2b61a0",
   "metadata": {},
   "outputs": [
    {
     "data": {
      "text/plain": [
       "1.261818181818182"
      ]
     },
     "execution_count": 6,
     "metadata": {},
     "output_type": "execute_result"
    }
   ],
   "source": [
    "df[\"price\"].max() / df[\"travel_time\"].max()"
   ]
  },
  {
   "cell_type": "code",
   "execution_count": 7,
   "id": "8489ff4b-e53a-4269-afd7-96ee4a6a72f5",
   "metadata": {},
   "outputs": [],
   "source": [
    "json_start = 19*60\n",
    "json_tstep = 3"
   ]
  },
  {
   "cell_type": "code",
   "execution_count": 8,
   "id": "e74a1eaa-c1ac-4ea1-820d-2e7afa307eb8",
   "metadata": {},
   "outputs": [],
   "source": [
    "df[\"converted_time_stamp\"] = (df[\"time_stamp\"]- 19 * 60) // 3"
   ]
  },
  {
   "cell_type": "code",
   "execution_count": 9,
   "id": "9d8a0fa2-a147-4ff9-8645-66918846b404",
   "metadata": {},
   "outputs": [
    {
     "name": "stdout",
     "output_type": "stream",
     "text": [
      "17.0 0\n",
      "17.0 1\n",
      "17.0 2\n",
      "17.0 3\n",
      "17.0 4\n",
      "10.0 5\n",
      "10.0 6\n",
      "10.0 7\n",
      "10.0 8\n",
      "10.0 9\n",
      "nan 10\n",
      "nan 11\n",
      "nan 12\n",
      "nan 13\n",
      "nan 14\n",
      "18.0 15\n",
      "18.0 16\n",
      "18.0 17\n",
      "18.0 18\n",
      "18.0 19\n"
     ]
    }
   ],
   "source": [
    "i = 5\n",
    "j = 9\n",
    "for step in range(20):\n",
    "    loc_time_mask = (\n",
    "        (df[\"origin\"] == i)\n",
    "        & (df[\"destination\"] == j)\n",
    "        & (\n",
    "            (\n",
    "                df[\"time_stamp\"]\n",
    "                - 19 * 60\n",
    "            )\n",
    "            // 3\n",
    "            == step\n",
    "        )\n",
    "    )\n",
    "    print(df.loc[loc_time_mask, \"travel_time\"].mean(), step)\n"
   ]
  },
  {
   "cell_type": "code",
   "execution_count": 10,
   "id": "03516f51-7c88-4e56-b04a-b7165e473a0f",
   "metadata": {},
   "outputs": [
    {
     "data": {
      "text/plain": [
       "0      -374\n",
       "1      -378\n",
       "2      -377\n",
       "3      -377\n",
       "4      -377\n",
       "       ... \n",
       "5365   -375\n",
       "5366   -378\n",
       "5367   -377\n",
       "5368   -377\n",
       "5369   -378\n",
       "Name: travel_time, Length: 5370, dtype: int64"
      ]
     },
     "execution_count": 10,
     "metadata": {},
     "output_type": "execute_result"
    }
   ],
   "source": [
    "(df[\"travel_time\"] - 19 * 60) // 3"
   ]
  },
  {
   "cell_type": "code",
   "execution_count": 11,
   "id": "84b4f4fe-00b8-4cac-b293-a5deaab340ab",
   "metadata": {},
   "outputs": [
    {
     "data": {
      "text/plain": [
       "300    18\n",
       "325    18\n",
       "350    18\n",
       "Name: travel_time, dtype: int64"
      ]
     },
     "execution_count": 11,
     "metadata": {},
     "output_type": "execute_result"
    }
   ],
   "source": [
    "df.loc[loc_time_mask, \"travel_time\"]"
   ]
  },
  {
   "cell_type": "code",
   "execution_count": 12,
   "id": "fd426619-a062-4767-85da-528b2f25e70c",
   "metadata": {},
   "outputs": [],
   "source": [
    "reb_df = pd.DataFrame(data[\"rebTime\"])\n",
    "reb_df = reb_df[reb_df[\"time_stamp\"]==19]"
   ]
  },
  {
   "cell_type": "code",
   "execution_count": 13,
   "id": "25cf245a-0a6f-4818-80f0-b4683400c82a",
   "metadata": {},
   "outputs": [],
   "source": [
    "df_new = df.merge(reb_df, on=[\"origin\", \"destination\"])"
   ]
  },
  {
   "cell_type": "code",
   "execution_count": 14,
   "id": "0e3a3f33-6dff-416b-9c26-14b57ed4ef65",
   "metadata": {},
   "outputs": [
    {
     "data": {
      "text/plain": [
       "<statsmodels.regression.linear_model.RegressionResultsWrapper at 0x7f4600bc3700>"
      ]
     },
     "execution_count": 14,
     "metadata": {},
     "output_type": "execute_result"
    }
   ],
   "source": [
    "smf.ols(formula=\"price ~ reb_time\", data=df_new).fit()"
   ]
  },
  {
   "cell_type": "code",
   "execution_count": 15,
   "id": "22280ec7-da2e-46a9-9f05-f971cd2f1a78",
   "metadata": {},
   "outputs": [],
   "source": [
    "org, dest = 5, 9\n",
    "test = df[(df[\"origin\"] == org) & (df[\"destination\"] == dest)] # 3.466"
   ]
  },
  {
   "cell_type": "code",
   "execution_count": 16,
   "id": "cb794905-d75e-466f-b2cf-a1025d358390",
   "metadata": {
    "scrolled": true
   },
   "outputs": [
    {
     "data": {
      "text/plain": [
       "array([6., 3., 7., 4., 5.])"
      ]
     },
     "execution_count": 16,
     "metadata": {},
     "output_type": "execute_result"
    }
   ],
   "source": [
    "((test.travel_time * test.demand * 2/3) / (test.demand * 2)).round().unique()"
   ]
  },
  {
   "cell_type": "code",
   "execution_count": 17,
   "id": "476ed346-cc7a-4958-b0be-62aa943e8761",
   "metadata": {},
   "outputs": [],
   "source": [
    "df[\"travel_time\"] /= 3"
   ]
  },
  {
   "cell_type": "code",
   "execution_count": 18,
   "id": "92cbe70d-21d6-41f1-9674-a8a6dd1fe9bd",
   "metadata": {
    "scrolled": true
   },
   "outputs": [],
   "source": [
    "df[\"price\"] = df[\"price\"] * df[\"demand\"] * 2"
   ]
  },
  {
   "cell_type": "code",
   "execution_count": 19,
   "id": "95bb997d-67e9-4259-a523-bb2acf937684",
   "metadata": {},
   "outputs": [
    {
     "data": {
      "text/html": [
       "<div>\n",
       "<style scoped>\n",
       "    .dataframe tbody tr th:only-of-type {\n",
       "        vertical-align: middle;\n",
       "    }\n",
       "\n",
       "    .dataframe tbody tr th {\n",
       "        vertical-align: top;\n",
       "    }\n",
       "\n",
       "    .dataframe thead th {\n",
       "        text-align: right;\n",
       "    }\n",
       "</style>\n",
       "<table border=\"1\" class=\"dataframe\">\n",
       "  <thead>\n",
       "    <tr style=\"text-align: right;\">\n",
       "      <th></th>\n",
       "      <th>time_stamp</th>\n",
       "      <th>origin</th>\n",
       "      <th>destination</th>\n",
       "      <th>demand</th>\n",
       "      <th>travel_time</th>\n",
       "      <th>price</th>\n",
       "      <th>converted_time_stamp</th>\n",
       "    </tr>\n",
       "  </thead>\n",
       "  <tbody>\n",
       "    <tr>\n",
       "      <th>3271</th>\n",
       "      <td>1155</td>\n",
       "      <td>7</td>\n",
       "      <td>5</td>\n",
       "      <td>0.6</td>\n",
       "      <td>18.333333</td>\n",
       "      <td>83.28</td>\n",
       "      <td>5</td>\n",
       "    </tr>\n",
       "    <tr>\n",
       "      <th>3301</th>\n",
       "      <td>1156</td>\n",
       "      <td>7</td>\n",
       "      <td>5</td>\n",
       "      <td>0.6</td>\n",
       "      <td>18.333333</td>\n",
       "      <td>83.28</td>\n",
       "      <td>5</td>\n",
       "    </tr>\n",
       "    <tr>\n",
       "      <th>3331</th>\n",
       "      <td>1157</td>\n",
       "      <td>7</td>\n",
       "      <td>5</td>\n",
       "      <td>0.6</td>\n",
       "      <td>18.333333</td>\n",
       "      <td>83.28</td>\n",
       "      <td>5</td>\n",
       "    </tr>\n",
       "    <tr>\n",
       "      <th>3361</th>\n",
       "      <td>1158</td>\n",
       "      <td>7</td>\n",
       "      <td>5</td>\n",
       "      <td>0.6</td>\n",
       "      <td>18.333333</td>\n",
       "      <td>83.28</td>\n",
       "      <td>6</td>\n",
       "    </tr>\n",
       "    <tr>\n",
       "      <th>3391</th>\n",
       "      <td>1159</td>\n",
       "      <td>7</td>\n",
       "      <td>5</td>\n",
       "      <td>0.6</td>\n",
       "      <td>18.333333</td>\n",
       "      <td>83.28</td>\n",
       "      <td>6</td>\n",
       "    </tr>\n",
       "    <tr>\n",
       "      <th>3421</th>\n",
       "      <td>1160</td>\n",
       "      <td>7</td>\n",
       "      <td>5</td>\n",
       "      <td>0.6</td>\n",
       "      <td>18.333333</td>\n",
       "      <td>83.28</td>\n",
       "      <td>6</td>\n",
       "    </tr>\n",
       "    <tr>\n",
       "      <th>3451</th>\n",
       "      <td>1161</td>\n",
       "      <td>7</td>\n",
       "      <td>5</td>\n",
       "      <td>0.6</td>\n",
       "      <td>18.333333</td>\n",
       "      <td>83.28</td>\n",
       "      <td>7</td>\n",
       "    </tr>\n",
       "    <tr>\n",
       "      <th>3481</th>\n",
       "      <td>1162</td>\n",
       "      <td>7</td>\n",
       "      <td>5</td>\n",
       "      <td>0.6</td>\n",
       "      <td>18.333333</td>\n",
       "      <td>83.28</td>\n",
       "      <td>7</td>\n",
       "    </tr>\n",
       "    <tr>\n",
       "      <th>3511</th>\n",
       "      <td>1163</td>\n",
       "      <td>7</td>\n",
       "      <td>5</td>\n",
       "      <td>0.6</td>\n",
       "      <td>18.333333</td>\n",
       "      <td>83.28</td>\n",
       "      <td>7</td>\n",
       "    </tr>\n",
       "    <tr>\n",
       "      <th>3541</th>\n",
       "      <td>1164</td>\n",
       "      <td>7</td>\n",
       "      <td>5</td>\n",
       "      <td>0.6</td>\n",
       "      <td>18.333333</td>\n",
       "      <td>83.28</td>\n",
       "      <td>8</td>\n",
       "    </tr>\n",
       "    <tr>\n",
       "      <th>3571</th>\n",
       "      <td>1165</td>\n",
       "      <td>7</td>\n",
       "      <td>5</td>\n",
       "      <td>0.6</td>\n",
       "      <td>18.333333</td>\n",
       "      <td>83.28</td>\n",
       "      <td>8</td>\n",
       "    </tr>\n",
       "    <tr>\n",
       "      <th>3601</th>\n",
       "      <td>1166</td>\n",
       "      <td>7</td>\n",
       "      <td>5</td>\n",
       "      <td>0.6</td>\n",
       "      <td>18.333333</td>\n",
       "      <td>83.28</td>\n",
       "      <td>8</td>\n",
       "    </tr>\n",
       "    <tr>\n",
       "      <th>3631</th>\n",
       "      <td>1167</td>\n",
       "      <td>7</td>\n",
       "      <td>5</td>\n",
       "      <td>0.6</td>\n",
       "      <td>18.333333</td>\n",
       "      <td>83.28</td>\n",
       "      <td>9</td>\n",
       "    </tr>\n",
       "    <tr>\n",
       "      <th>3661</th>\n",
       "      <td>1168</td>\n",
       "      <td>7</td>\n",
       "      <td>5</td>\n",
       "      <td>0.6</td>\n",
       "      <td>18.333333</td>\n",
       "      <td>83.28</td>\n",
       "      <td>9</td>\n",
       "    </tr>\n",
       "    <tr>\n",
       "      <th>3691</th>\n",
       "      <td>1169</td>\n",
       "      <td>7</td>\n",
       "      <td>5</td>\n",
       "      <td>0.6</td>\n",
       "      <td>18.333333</td>\n",
       "      <td>83.28</td>\n",
       "      <td>9</td>\n",
       "    </tr>\n",
       "  </tbody>\n",
       "</table>\n",
       "</div>"
      ],
      "text/plain": [
       "      time_stamp  origin  destination  demand  travel_time  price  \\\n",
       "3271        1155       7            5     0.6    18.333333  83.28   \n",
       "3301        1156       7            5     0.6    18.333333  83.28   \n",
       "3331        1157       7            5     0.6    18.333333  83.28   \n",
       "3361        1158       7            5     0.6    18.333333  83.28   \n",
       "3391        1159       7            5     0.6    18.333333  83.28   \n",
       "3421        1160       7            5     0.6    18.333333  83.28   \n",
       "3451        1161       7            5     0.6    18.333333  83.28   \n",
       "3481        1162       7            5     0.6    18.333333  83.28   \n",
       "3511        1163       7            5     0.6    18.333333  83.28   \n",
       "3541        1164       7            5     0.6    18.333333  83.28   \n",
       "3571        1165       7            5     0.6    18.333333  83.28   \n",
       "3601        1166       7            5     0.6    18.333333  83.28   \n",
       "3631        1167       7            5     0.6    18.333333  83.28   \n",
       "3661        1168       7            5     0.6    18.333333  83.28   \n",
       "3691        1169       7            5     0.6    18.333333  83.28   \n",
       "\n",
       "      converted_time_stamp  \n",
       "3271                     5  \n",
       "3301                     5  \n",
       "3331                     5  \n",
       "3361                     6  \n",
       "3391                     6  \n",
       "3421                     6  \n",
       "3451                     7  \n",
       "3481                     7  \n",
       "3511                     7  \n",
       "3541                     8  \n",
       "3571                     8  \n",
       "3601                     8  \n",
       "3631                     9  \n",
       "3661                     9  \n",
       "3691                     9  "
      ]
     },
     "execution_count": 19,
     "metadata": {},
     "output_type": "execute_result"
    }
   ],
   "source": [
    "df[df[\"price\"] == df[\"price\"].max()]"
   ]
  },
  {
   "cell_type": "markdown",
   "id": "895fb575-5ccd-4518-be4d-5010222f3bf8",
   "metadata": {},
   "source": [
    "# Simple summary stats"
   ]
  },
  {
   "cell_type": "code",
   "execution_count": 56,
   "id": "cb4340ab-3165-433d-b95a-bda88366afc2",
   "metadata": {},
   "outputs": [],
   "source": [
    "df_org_dest = df.groupby([\"origin\", \"destination\"]).agg({\"price\": [\"count\", \"mean\"], \"demand\": \"mean\", \"travel_time\":\"mean\"}).reset_index()"
   ]
  },
  {
   "cell_type": "code",
   "execution_count": 57,
   "id": "43fbc8bd-2a40-4f63-aa21-26ddd22394ae",
   "metadata": {
    "scrolled": true
   },
   "outputs": [
    {
     "data": {
      "text/html": [
       "<div>\n",
       "<style scoped>\n",
       "    .dataframe tbody tr th:only-of-type {\n",
       "        vertical-align: middle;\n",
       "    }\n",
       "\n",
       "    .dataframe tbody tr th {\n",
       "        vertical-align: top;\n",
       "    }\n",
       "\n",
       "    .dataframe thead tr th {\n",
       "        text-align: left;\n",
       "    }\n",
       "</style>\n",
       "<table border=\"1\" class=\"dataframe\">\n",
       "  <thead>\n",
       "    <tr>\n",
       "      <th></th>\n",
       "      <th>origin</th>\n",
       "      <th>destination</th>\n",
       "      <th colspan=\"2\" halign=\"left\">price</th>\n",
       "      <th>demand</th>\n",
       "      <th>travel_time</th>\n",
       "    </tr>\n",
       "    <tr>\n",
       "      <th></th>\n",
       "      <th></th>\n",
       "      <th></th>\n",
       "      <th>count</th>\n",
       "      <th>mean</th>\n",
       "      <th>mean</th>\n",
       "      <th>mean</th>\n",
       "    </tr>\n",
       "  </thead>\n",
       "  <tbody>\n",
       "    <tr>\n",
       "      <th>0</th>\n",
       "      <td>0</td>\n",
       "      <td>1</td>\n",
       "      <td>120</td>\n",
       "      <td>13.400000</td>\n",
       "      <td>0.066667</td>\n",
       "      <td>14.000000</td>\n",
       "    </tr>\n",
       "    <tr>\n",
       "      <th>1</th>\n",
       "      <td>0</td>\n",
       "      <td>2</td>\n",
       "      <td>180</td>\n",
       "      <td>15.266667</td>\n",
       "      <td>0.077778</td>\n",
       "      <td>20.666667</td>\n",
       "    </tr>\n",
       "    <tr>\n",
       "      <th>2</th>\n",
       "      <td>0</td>\n",
       "      <td>3</td>\n",
       "      <td>180</td>\n",
       "      <td>12.166667</td>\n",
       "      <td>0.138889</td>\n",
       "      <td>14.333333</td>\n",
       "    </tr>\n",
       "    <tr>\n",
       "      <th>3</th>\n",
       "      <td>0</td>\n",
       "      <td>4</td>\n",
       "      <td>180</td>\n",
       "      <td>9.333333</td>\n",
       "      <td>0.688889</td>\n",
       "      <td>9.666667</td>\n",
       "    </tr>\n",
       "    <tr>\n",
       "      <th>4</th>\n",
       "      <td>0</td>\n",
       "      <td>5</td>\n",
       "      <td>180</td>\n",
       "      <td>12.433333</td>\n",
       "      <td>0.838889</td>\n",
       "      <td>14.666667</td>\n",
       "    </tr>\n",
       "  </tbody>\n",
       "</table>\n",
       "</div>"
      ],
      "text/plain": [
       "  origin destination price               demand travel_time\n",
       "                     count       mean      mean        mean\n",
       "0      0           1   120  13.400000  0.066667   14.000000\n",
       "1      0           2   180  15.266667  0.077778   20.666667\n",
       "2      0           3   180  12.166667  0.138889   14.333333\n",
       "3      0           4   180   9.333333  0.688889    9.666667\n",
       "4      0           5   180  12.433333  0.838889   14.666667"
      ]
     },
     "execution_count": 57,
     "metadata": {},
     "output_type": "execute_result"
    }
   ],
   "source": [
    "df_org_dest.head()"
   ]
  },
  {
   "cell_type": "code",
   "execution_count": 58,
   "id": "64eda33d-14c8-4bba-b6b2-deef4c121205",
   "metadata": {},
   "outputs": [],
   "source": [
    "df_org_dest.columns = df_org_dest.columns.droplevel(0)\n",
    "df_org_dest.columns = [\"Origin\", \"Destination\", \"count\", \"mean_price\", \"mean_demand\", \"mean_travel_time\"]"
   ]
  },
  {
   "cell_type": "code",
   "execution_count": 59,
   "id": "cc9a2914-61e1-4f91-af30-7109023d7e63",
   "metadata": {},
   "outputs": [
    {
     "data": {
      "text/html": [
       "<div>\n",
       "<style scoped>\n",
       "    .dataframe tbody tr th:only-of-type {\n",
       "        vertical-align: middle;\n",
       "    }\n",
       "\n",
       "    .dataframe tbody tr th {\n",
       "        vertical-align: top;\n",
       "    }\n",
       "\n",
       "    .dataframe thead th {\n",
       "        text-align: right;\n",
       "    }\n",
       "</style>\n",
       "<table border=\"1\" class=\"dataframe\">\n",
       "  <thead>\n",
       "    <tr style=\"text-align: right;\">\n",
       "      <th></th>\n",
       "      <th>time_stamp</th>\n",
       "      <th>origin</th>\n",
       "      <th>destination</th>\n",
       "      <th>demand</th>\n",
       "      <th>travel_time</th>\n",
       "      <th>price</th>\n",
       "      <th>converted_time_stamp</th>\n",
       "    </tr>\n",
       "  </thead>\n",
       "  <tbody>\n",
       "    <tr>\n",
       "      <th>count</th>\n",
       "      <td>24780.000000</td>\n",
       "      <td>24780.000000</td>\n",
       "      <td>24780.000000</td>\n",
       "      <td>24780.000000</td>\n",
       "      <td>24780.000000</td>\n",
       "      <td>24780.000000</td>\n",
       "    </tr>\n",
       "    <tr>\n",
       "      <th>mean</th>\n",
       "      <td>1227.320823</td>\n",
       "      <td>5.992736</td>\n",
       "      <td>7.576271</td>\n",
       "      <td>0.121186</td>\n",
       "      <td>13.871671</td>\n",
       "      <td>11.722518</td>\n",
       "    </tr>\n",
       "    <tr>\n",
       "      <th>std</th>\n",
       "      <td>51.719791</td>\n",
       "      <td>4.017892</td>\n",
       "      <td>4.392148</td>\n",
       "      <td>0.182164</td>\n",
       "      <td>7.010372</td>\n",
       "      <td>3.827296</td>\n",
       "    </tr>\n",
       "    <tr>\n",
       "      <th>min</th>\n",
       "      <td>1140.000000</td>\n",
       "      <td>0.000000</td>\n",
       "      <td>0.000000</td>\n",
       "      <td>0.016667</td>\n",
       "      <td>3.000000</td>\n",
       "      <td>0.000000</td>\n",
       "    </tr>\n",
       "    <tr>\n",
       "      <th>25%</th>\n",
       "      <td>1183.000000</td>\n",
       "      <td>3.000000</td>\n",
       "      <td>4.000000</td>\n",
       "      <td>0.016667</td>\n",
       "      <td>9.000000</td>\n",
       "      <td>9.000000</td>\n",
       "    </tr>\n",
       "    <tr>\n",
       "      <th>50%</th>\n",
       "      <td>1226.000000</td>\n",
       "      <td>6.000000</td>\n",
       "      <td>7.000000</td>\n",
       "      <td>0.050000</td>\n",
       "      <td>12.000000</td>\n",
       "      <td>11.000000</td>\n",
       "    </tr>\n",
       "    <tr>\n",
       "      <th>75%</th>\n",
       "      <td>1271.000000</td>\n",
       "      <td>9.000000</td>\n",
       "      <td>11.000000</td>\n",
       "      <td>0.133333</td>\n",
       "      <td>17.000000</td>\n",
       "      <td>13.600000</td>\n",
       "    </tr>\n",
       "    <tr>\n",
       "      <th>max</th>\n",
       "      <td>1319.000000</td>\n",
       "      <td>16.000000</td>\n",
       "      <td>17.000000</td>\n",
       "      <td>0.966667</td>\n",
       "      <td>68.000000</td>\n",
       "      <td>24.900000</td>\n",
       "    </tr>\n",
       "  </tbody>\n",
       "</table>\n",
       "</div>"
      ],
      "text/plain": [
       "         time_stamp        origin   destination        demand   travel_time  \\\n",
       "count  24780.000000  24780.000000  24780.000000  24780.000000  24780.000000   \n",
       "mean    1227.320823      5.992736      7.576271      0.121186     13.871671   \n",
       "std       51.719791      4.017892      4.392148      0.182164      7.010372   \n",
       "min     1140.000000      0.000000      0.000000      0.016667      3.000000   \n",
       "25%     1183.000000      3.000000      4.000000      0.016667      9.000000   \n",
       "50%     1226.000000      6.000000      7.000000      0.050000     12.000000   \n",
       "75%     1271.000000      9.000000     11.000000      0.133333     17.000000   \n",
       "max     1319.000000     16.000000     17.000000      0.966667     68.000000   \n",
       "\n",
       "              price  \n",
       "count  24780.000000  \n",
       "mean      11.722518  \n",
       "std        3.827296  \n",
       "min        0.000000  \n",
       "25%        9.000000  \n",
       "50%       11.000000  \n",
       "75%       13.600000  \n",
       "max       24.900000  "
      ]
     },
     "execution_count": 59,
     "metadata": {},
     "output_type": "execute_result"
    }
   ],
   "source": [
    "df.describe()"
   ]
  },
  {
   "cell_type": "code",
   "execution_count": 60,
   "id": "e7c8d399-ffb5-4b4b-8ec9-029793ba533b",
   "metadata": {},
   "outputs": [
    {
     "name": "stdout",
     "output_type": "stream",
     "text": [
      "Origin nodes: [ 0  1  2  3  4  5  6  7  8  9 10 11 12 13 16]\n",
      "Destination nodes: [ 0  1  2  3  4  5  6  7  8  9 10 11 12 13 14 15 16 17]\n"
     ]
    }
   ],
   "source": [
    "print(f\"Origin nodes: {np.sort(df.origin.unique())}\")\n",
    "print(f\"Destination nodes: {np.sort(df.destination.unique())}\")"
   ]
  },
  {
   "cell_type": "markdown",
   "id": "91848182-845a-40bd-9d48-5742fb15e11b",
   "metadata": {},
   "source": [
    "# Grid analysis"
   ]
  },
  {
   "cell_type": "code",
   "execution_count": 61,
   "id": "7dd3e1c1-f776-439c-ab22-64e50091251c",
   "metadata": {},
   "outputs": [],
   "source": [
    "pivot_df = df_org_dest.pivot(index='Origin', columns='Destination', values='count').T\n",
    "pivot_df = pivot_df"
   ]
  },
  {
   "cell_type": "code",
   "execution_count": 62,
   "id": "bce95db1-c491-413e-b1b0-5a42d8da7b9b",
   "metadata": {},
   "outputs": [
    {
     "data": {
      "image/png": "[encoded data removed]",
      "text/plain": [
       "<Figure size 640x480 with 2 Axes>"
      ]
     },
     "metadata": {},
     "output_type": "display_data"
    }
   ],
   "source": [
    "sns.heatmap(pivot_df.iloc[::-1], annot=False, fmt=\"d\")\n",
    "plt.title(f\"Distribution of trips for {city}.json\")\n",
    "plt.xlabel(pivot_df.columns.name)\n",
    "plt.ylabel(pivot_df.index.name)\n",
    "plt.savefig(f\"./figs/DistributionOfTrips_{city}\")\n",
    "plt.show()"
   ]
  },
  {
   "cell_type": "code",
   "execution_count": 63,
   "id": "acc86d02-d277-41fd-bf34-dc1a4f74cc4b",
   "metadata": {},
   "outputs": [],
   "source": [
    "# mean_demand_matrix = df.groupby(\"origin\")[\"demand\"].mean().values.reshape(1,pivot_df.shape[1])\n",
    "# plt.figure(figsize=(10, 8))\n",
    "# sns.heatmap(mean_demand_matrix.reshape(2,5), annot=True, fmt=\".2f\", cmap=\"YlGnBu\", cbar_kws={'label': 'Mean Demand'}, annot_kws={\"size\": 12})\n",
    "# plt.title('Heatmap of Mean Demand in Each Grid')\n",
    "# plt.xlabel('Longitude Grid')\n",
    "# plt.ylabel('Latitude Grid')\n",
    "# plt.show()"
   ]
  },
  {
   "cell_type": "markdown",
   "id": "93d4bf18-3442-40a4-92c6-80726802ad1b",
   "metadata": {},
   "source": [
    "# Travel time analysis"
   ]
  },
  {
   "cell_type": "code",
   "execution_count": 64,
   "id": "029b4a60-67e7-4069-a602-c9abdbeb1059",
   "metadata": {},
   "outputs": [
    {
     "data": {
      "image/png": "[encoded data removed]",
      "text/plain": [
       "<Figure size 640x480 with 1 Axes>"
      ]
     },
     "metadata": {},
     "output_type": "display_data"
    }
   ],
   "source": [
    "x = np.linspace(0, 100, 1000)\n",
    "fitted_params = lognorm.fit(df[\"travel_time\"])\n",
    "sns.histplot(df[\"travel_time\"], bins=70, stat=\"density\")\n",
    "plt.plot(x, lognorm(*fitted_params).pdf(x), color=\"#2F4550\")\n",
    "plt.title(f\"Distribution of travel time for {city}.json\")\n",
    "plt.savefig(f\"./figs/TravelTimeDist_{city}\")\n",
    "plt.show()"
   ]
  },
  {
   "cell_type": "markdown",
   "id": "a5bb3741-1314-4093-a5a2-ecd28fd83eab",
   "metadata": {},
   "source": [
    "# Price analysis"
   ]
  },
  {
   "cell_type": "code",
   "execution_count": 65,
   "id": "1d013b52-37c4-4021-89d0-19c4ab5b9cbd",
   "metadata": {},
   "outputs": [
    {
     "data": {
      "image/png": "[encoded data removed]",
      "text/plain": [
       "<Figure size 640x480 with 1 Axes>"
      ]
     },
     "metadata": {},
     "output_type": "display_data"
    }
   ],
   "source": [
    "x = np.linspace(0, 100, 1000)\n",
    "fitted_params = lognorm.fit(df[\"price\"])\n",
    "sns.histplot(df[\"price\"], bins=70, stat=\"density\")\n",
    "plt.plot(x, lognorm(*fitted_params).pdf(x), color=\"#2F4550\")\n",
    "plt.title(f\"Distribution of price for {city}.json\")\n",
    "plt.savefig(f\"./figs/DistOfPrice_{city}\")\n",
    "plt.show()"
   ]
  },
  {
   "cell_type": "code",
   "execution_count": 48,
   "id": "1225248a-cfc7-42d1-8243-22dcc96a75ba",
   "metadata": {},
   "outputs": [],
   "source": [
    "pred_df = df.copy()"
   ]
  },
  {
   "cell_type": "code",
   "execution_count": 67,
   "id": "badfd7d9-21e6-43bc-94a1-37165689a496",
   "metadata": {},
   "outputs": [
    {
     "name": "stderr",
     "output_type": "stream",
     "text": [
      "c:\\Users\\joach\\AppData\\Local\\pypoetry\\Cache\\virtualenvs\\multi-agent-reinforcement-learning-POZmGtHo-py3.10\\lib\\site-packages\\pandas\\core\\arraylike.py:396: RuntimeWarning: divide by zero encountered in log\n",
      "  result = getattr(ufunc, method)(*inputs, **kwargs)\n"
     ]
    }
   ],
   "source": [
    "pred_df[\"poly_travel_time\"] = pred_df[\"travel_time\"]**2\n",
    "pred_df[\"poly_demand\"] = pred_df[\"demand\"]**2\n",
    "pred_df[\"log_price\"] = np.log(pred_df[\"price\"])"
   ]
  },
  {
   "cell_type": "code",
   "execution_count": 68,
   "id": "4a26c314-3fcd-4835-af15-fb592f570b0b",
   "metadata": {},
   "outputs": [],
   "source": [
    "sc = StandardScaler()"
   ]
  },
  {
   "cell_type": "code",
   "execution_count": 69,
   "id": "b1eb71f7-3458-48a7-bb14-93dee7ee3129",
   "metadata": {},
   "outputs": [],
   "source": [
    "fitted_glm = glm_model.fit()"
   ]
  },
  {
   "cell_type": "code",
   "execution_count": 70,
   "id": "ffad7b24-6150-464c-bf9a-8a0e750aacd6",
   "metadata": {},
   "outputs": [
    {
     "data": {
      "text/html": [
       "<table class=\"simpletable\">\n",
       "<caption>Generalized Linear Model Regression Results</caption>\n",
       "<tr>\n",
       "  <th>Dep. Variable:</th>         <td>price</td>      <th>  No. Observations:  </th>  <td> 24780</td> \n",
       "</tr>\n",
       "<tr>\n",
       "  <th>Model:</th>                  <td>GLM</td>       <th>  Df Residuals:      </th>  <td> 24777</td> \n",
       "</tr>\n",
       "<tr>\n",
       "  <th>Model Family:</th>        <td>Gaussian</td>     <th>  Df Model:          </th>  <td>     0</td> \n",
       "</tr>\n",
       "<tr>\n",
       "  <th>Link Function:</th>       <td>Identity</td>     <th>  Scale:             </th> <td>  3.2457</td>\n",
       "</tr>\n",
       "<tr>\n",
       "  <th>Method:</th>                <td>IRLS</td>       <th>  Log-Likelihood:    </th> <td> -49747.</td>\n",
       "</tr>\n",
       "<tr>\n",
       "  <th>Date:</th>            <td>Mon, 27 Nov 2023</td> <th>  Deviance:          </th> <td>  80419.</td>\n",
       "</tr>\n",
       "<tr>\n",
       "  <th>Time:</th>                <td>15:46:24</td>     <th>  Pearson chi2:      </th> <td>8.04e+04</td>\n",
       "</tr>\n",
       "<tr>\n",
       "  <th>No. Iterations:</th>          <td>3</td>        <th>  Pseudo R-squ. (CS):</th>  <td>0.9702</td> \n",
       "</tr>\n",
       "<tr>\n",
       "  <th>Covariance Type:</th>     <td>nonrobust</td>    <th>                     </th>     <td> </td>   \n",
       "</tr>\n",
       "</table>\n",
       "<table class=\"simpletable\">\n",
       "<tr>\n",
       "       <td></td>          <th>coef</th>     <th>std err</th>      <th>z</th>      <th>P>|z|</th>  <th>[0.025</th>    <th>0.975]</th>  \n",
       "</tr>\n",
       "<tr>\n",
       "  <th>Intercept</th>   <td>    4.9518</td> <td>    0.027</td> <td>  186.285</td> <td> 0.000</td> <td>    4.900</td> <td>    5.004</td>\n",
       "</tr>\n",
       "<tr>\n",
       "  <th>travel_time</th> <td>    0.4816</td> <td>    0.002</td> <td>  294.940</td> <td> 0.000</td> <td>    0.478</td> <td>    0.485</td>\n",
       "</tr>\n",
       "<tr>\n",
       "  <th>demand</th>      <td>    0.7492</td> <td>    0.063</td> <td>   11.923</td> <td> 0.000</td> <td>    0.626</td> <td>    0.872</td>\n",
       "</tr>\n",
       "</table>"
      ],
      "text/latex": [
       "\\begin{center}\n",
       "\\begin{tabular}{lclc}\n",
       "\\toprule\n",
       "\\textbf{Dep. Variable:}   &      price       & \\textbf{  No. Observations:  } &    24780    \\\\\n",
       "\\textbf{Model:}           &       GLM        & \\textbf{  Df Residuals:      } &    24777    \\\\\n",
       "\\textbf{Model Family:}    &     Gaussian     & \\textbf{  Df Model:          } &        2    \\\\\n",
       "\\textbf{Link Function:}   &     Identity     & \\textbf{  Scale:             } &    3.2457   \\\\\n",
       "\\textbf{Method:}          &       IRLS       & \\textbf{  Log-Likelihood:    } &   -49747.   \\\\\n",
       "\\textbf{Date:}            & Mon, 27 Nov 2023 & \\textbf{  Deviance:          } &    80419.   \\\\\n",
       "\\textbf{Time:}            &     15:46:24     & \\textbf{  Pearson chi2:      } &  8.04e+04   \\\\\n",
       "\\textbf{No. Iterations:}  &        3         & \\textbf{  Pseudo R-squ. (CS):} &   0.9702    \\\\\n",
       "\\textbf{Covariance Type:} &    nonrobust     & \\textbf{                     } &             \\\\\n",
       "\\bottomrule\n",
       "\\end{tabular}\n",
       "\\begin{tabular}{lcccccc}\n",
       "                      & \\textbf{coef} & \\textbf{std err} & \\textbf{z} & \\textbf{P$> |$z$|$} & \\textbf{[0.025} & \\textbf{0.975]}  \\\\\n",
       "\\midrule\n",
       "\\textbf{Intercept}    &       4.9518  &        0.027     &   186.285  &         0.000        &        4.900    &        5.004     \\\\\n",
       "\\textbf{travel\\_time} &       0.4816  &        0.002     &   294.940  &         0.000        &        0.478    &        0.485     \\\\\n",
       "\\textbf{demand}       &       0.7492  &        0.063     &    11.923  &         0.000        &        0.626    &        0.872     \\\\\n",
       "\\bottomrule\n",
       "\\end{tabular}\n",
       "%\\caption{Generalized Linear Model Regression Results}\n",
       "\\end{center}"
      ],
      "text/plain": [
       "<class 'statsmodels.iolib.summary.Summary'>\n",
       "\"\"\"\n",
       "                 Generalized Linear Model Regression Results                  \n",
       "==============================================================================\n",
       "Dep. Variable:                  price   No. Observations:                24780\n",
       "Model:                            GLM   Df Residuals:                    24777\n",
       "Model Family:                Gaussian   Df Model:                            2\n",
       "Link Function:               Identity   Scale:                          3.2457\n",
       "Method:                          IRLS   Log-Likelihood:                -49747.\n",
       "Date:                Mon, 27 Nov 2023   Deviance:                       80419.\n",
       "Time:                        15:46:24   Pearson chi2:                 8.04e+04\n",
       "No. Iterations:                     3   Pseudo R-squ. (CS):             0.9702\n",
       "Covariance Type:            nonrobust                                         \n",
       "===============================================================================\n",
       "                  coef    std err          z      P>|z|      [0.025      0.975]\n",
       "-------------------------------------------------------------------------------\n",
       "Intercept       4.9518      0.027    186.285      0.000       4.900       5.004\n",
       "travel_time     0.4816      0.002    294.940      0.000       0.478       0.485\n",
       "demand          0.7492      0.063     11.923      0.000       0.626       0.872\n",
       "===============================================================================\n",
       "\"\"\""
      ]
     },
     "execution_count": 70,
     "metadata": {},
     "output_type": "execute_result"
    }
   ],
   "source": [
    "fitted_glm.summary()"
   ]
  },
  {
   "cell_type": "code",
   "execution_count": 71,
   "id": "70079ad9-3764-4539-9cef-570876dd702c",
   "metadata": {},
   "outputs": [
    {
     "data": {
      "image/png": "[encoded data removed]",
      "text/plain": [
       "<Figure size 640x480 with 1 Axes>"
      ]
     },
     "metadata": {},
     "output_type": "display_data"
    }
   ],
   "source": [
    "sns.kdeplot(df[\"price\"])"
   ]
  },
  {
   "cell_type": "code",
   "execution_count": 56,
   "id": "153feab7-81c9-418b-9661-f3e49558e8e9",
   "metadata": {},
   "outputs": [
    {
     "data": {
      "image/png": "[encoded data removed]",
      "text/plain": [
       "<Figure size 640x480 with 1 Axes>"
      ]
     },
     "metadata": {},
     "output_type": "display_data"
    }
   ],
   "source": [
    "plt.scatter(df[\"travel_time\"], df[\"price\"], label=\"Actual\")\n",
    "plt.plot(df[\"travel_time\"], fitted_glm.predict(), color=\"red\", label=\"GLM\")\n",
    "plt.plot(df[\"travel_time\"], df[\"travel_time\"]*3, color=\"black\", label=\"RL\")\n",
    "#plt.plot(df[\"travel_time\"], df[\"travel_time\"]*2, color=\"magenta\", label=\"RL2\")\n",
    "plt.xlabel(\"Travel time\")\n",
    "plt.ylabel(\"Price\")\n",
    "plt.legend()\n",
    "plt.savefig(\"reg_with_rl.png\")\n",
    "plt.show()"
   ]
  },
  {
   "cell_type": "code",
   "execution_count": 78,
   "id": "a3242c9a-3b58-4842-b106-dd5a8ad403e2",
   "metadata": {},
   "outputs": [
    {
     "data": {
      "image/png": "[encoded data removed]",
      "text/plain": [
       "<Figure size 640x480 with 1 Axes>"
      ]
     },
     "metadata": {},
     "output_type": "display_data"
    }
   ],
   "source": [
    "plt.scatter(pred_df[\"price\"], fitted_glm.predict())\n",
    "plt.axline((0,0), slope=1, color=\"red\")\n",
    "plt.show()"
   ]
  },
  {
   "cell_type": "code",
   "execution_count": 79,
   "id": "70079ad9-3764-4539-9cef-570876dd702c",
   "metadata": {},
   "outputs": [
    {
     "data": {
      "image/png": "[encoded data removed]",
      "text/plain": [
       "<Figure size 640x480 with 1 Axes>"
      ]
     },
     "metadata": {},
     "output_type": "display_data"
    }
   ],
   "source": [
    "plt.scatter(pred_df[\"price\"], fitted_glm.predict() - pred_df[\"price\"])\n",
    "plt.hlines(y=0, xmin=1, xmax=120, color=\"#2F4550\")\n",
    "plt.xlabel(\"Price\")\n",
    "plt.ylabel(\"Pearson Residual\")\n",
    "plt.title(\"Residuals of GLM\")\n",
    "plt.show()"
   ]
  },
  {
   "cell_type": "markdown",
   "id": "8ddd8bfb-9f21-49d1-8237-773e447ceff9",
   "metadata": {},
   "source": [
    "# Predicting demand"
   ]
  },
  {
   "cell_type": "code",
   "execution_count": 174,
   "id": "33b4df58-d94d-4fb8-b7d6-94814e7d75cd",
   "metadata": {},
   "outputs": [],
   "source": [
    "def model_2(vars, travel_time):\n",
    "    alpha, beta = vars\n",
    "    demand_hat = np.exp(alpha + beta * travel_time)\n",
    "    return demand_hat"
   ]
  },
  {
   "cell_type": "code",
   "execution_count": 175,
   "id": "73bc646e-7e88-41db-b93f-bdfc8f0b7c73",
   "metadata": {},
   "outputs": [],
   "source": [
    "def mse_model2(vars, price, travel_time):\n",
    "    price_hat = model_2(vars, travel_time)\n",
    "    return np.mean((price-price_hat)**2)"
   ]
  },
  {
   "cell_type": "code",
   "execution_count": 180,
   "id": "a363f8ae-c3e3-4fff-acda-f7ce59e502d8",
   "metadata": {},
   "outputs": [],
   "source": [
    "x0 = (0,0)\n",
    "res = minimize(mse_model2, x0, args=(df.price, df.travel_time), tol=1e-3, method=\"Powell\")"
   ]
  },
  {
   "cell_type": "code",
   "execution_count": 181,
   "id": "e8929e4b-f738-4931-8d21-a830d547a6d1",
   "metadata": {},
   "outputs": [
    {
     "data": {
      "text/plain": [
       " message: Optimization terminated successfully.\n",
       " success: True\n",
       "  status: 0\n",
       "     fun: 20.92744780137508\n",
       "       x: [ 2.447e+00  3.932e-02]\n",
       "     nit: 4\n",
       "   direc: [[ 1.000e+00  0.000e+00]\n",
       "           [-2.373e-01  1.697e-02]]\n",
       "    nfev: 98"
      ]
     },
     "execution_count": 181,
     "metadata": {},
     "output_type": "execute_result"
    }
   ],
   "source": [
    "res"
   ]
  },
  {
   "cell_type": "code",
   "execution_count": 182,
   "id": "45ab1fdc-04b4-405f-bd6d-6f878fe265cb",
   "metadata": {},
   "outputs": [
    {
     "data": {
      "text/plain": [
       "array([2.44746718, 0.03932451])"
      ]
     },
     "execution_count": 182,
     "metadata": {},
     "output_type": "execute_result"
    }
   ],
   "source": [
    "res.x"
   ]
  },
  {
   "cell_type": "code",
   "execution_count": 183,
   "id": "91ef74d3-c5b0-476c-810a-506d9023a48b",
   "metadata": {},
   "outputs": [
    {
     "data": {
      "image/png": "[encoded data removed]",
      "text/plain": [
       "<Figure size 640x480 with 1 Axes>"
      ]
     },
     "metadata": {},
     "output_type": "display_data"
    }
   ],
   "source": [
    "plt.plot(df.travel_time.sort_values(ascending=False).values, model_2(res.x, df.travel_time.sort_values(ascending=False).values), color=\"red\")\n",
    "plt.scatter(df.travel_time.sort_values(ascending=False).values,df.sort_values(\"travel_time\", ascending=False).price.values)\n",
    "plt.show()"
   ]
  },
  {
   "cell_type": "code",
   "execution_count": 108,
   "id": "d0a0294d-e4d1-4afc-9bf5-14cd2b9ff97e",
   "metadata": {},
   "outputs": [
    {
     "data": {
      "text/plain": [
       "<matplotlib.collections.PathCollection at 0x7f529ff01f90>"
      ]
     },
     "execution_count": 108,
     "metadata": {},
     "output_type": "execute_result"
    },
    {
     "data": {
      "image/png": "[encoded data removed]",
      "text/plain": [
       "<Figure size 640x480 with 1 Axes>"
      ]
     },
     "metadata": {},
     "output_type": "display_data"
    }
   ],
   "source": [
    "plt.scatter(df[\"price\"], np.exp(res.x[0] + res.x[1] * df[\"price\"]))"
   ]
  },
  {
   "cell_type": "code",
   "execution_count": null,
   "id": "57967eff-2c31-421b-92e1-2253ec9242d3",
   "metadata": {},
   "outputs": [],
   "source": [
    "plt.plot(df.price.sort_values(ascending=False).values, model_2(res.x, df.demand.sort_values(ascending=False).values), color=\"red\")\n",
    "plt.scatter(df.price.sort_values(ascending=False).values,df.sort_values(\"price\", ascending=False).demand.values)"
   ]
  },
  {
   "cell_type": "code",
   "execution_count": null,
   "id": "4c29a7af-51a6-4fb4-9127-dcee3e27c057",
   "metadata": {},
   "outputs": [],
   "source": []
  }
 ],
 "metadata": {
  "kernelspec": {
   "display_name": "Python 3 (ipykernel)",
   "language": "python",
   "name": "python3"
  },
  "language_info": {
   "codemirror_mode": {
    "name": "ipython",
    "version": 3
   },
   "file_extension": ".py",
   "mimetype": "text/x-python",
   "name": "python",
   "nbconvert_exporter": "python",
   "pygments_lexer": "ipython3",
   "version": "3.10.4"
  }
 },
 "nbformat": 4,
 "nbformat_minor": 5
}
