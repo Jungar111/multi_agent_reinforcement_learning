{
 "cells": [
  {
   "cell_type": "code",
   "execution_count": 1,
   "id": "032ea78a-6c10-45bd-8825-8b694fd07e4d",
   "metadata": {},
   "outputs": [],
   "source": [
    "import os\n",
    "os.chdir(\"..\")\n",
    "import json\n",
    "import pandas as pd\n",
    "import matplotlib.pyplot as plt\n",
    "import seaborn as sns\n",
    "import numpy as np\n",
    "from scipy.stats import lognorm\n",
    "import statsmodels.formula.api as smf\n",
    "import statsmodels.api as sm\n",
    "from scipy.optimize import minimize"
   ]
  },
  {
   "cell_type": "code",
   "execution_count": 2,
   "id": "38eba333-7ab0-4ed9-a6bd-d6b498e2d9c3",
   "metadata": {},
   "outputs": [],
   "source": [
    "with open(\"data/scenario_san_francisco.json\") as f:\n",
    "    data = json.loads(f.read())"
   ]
  },
  {
   "cell_type": "code",
   "execution_count": 3,
   "id": "9fa0c812-92a2-44e0-8cab-4ee73ce77891",
   "metadata": {},
   "outputs": [],
   "source": [
    "df = pd.DataFrame(data[\"demand\"])"
   ]
  },
  {
   "cell_type": "markdown",
   "id": "895fb575-5ccd-4518-be4d-5010222f3bf8",
   "metadata": {},
   "source": [
    "# Simple summary stats"
   ]
  },
  {
   "cell_type": "code",
   "execution_count": 4,
   "id": "cb4340ab-3165-433d-b95a-bda88366afc2",
   "metadata": {},
   "outputs": [],
   "source": [
    "df_org_dest = df.groupby([\"origin\", \"destination\"]).agg({\"price\": [\"count\", \"mean\"], \"demand\": \"mean\", \"travel_time\":\"mean\"}).reset_index()"
   ]
  },
  {
   "cell_type": "code",
   "execution_count": 5,
   "id": "43fbc8bd-2a40-4f63-aa21-26ddd22394ae",
   "metadata": {
    "scrolled": true
   },
   "outputs": [
    {
     "data": {
      "text/html": [
       "<div>\n",
       "<style scoped>\n",
       "    .dataframe tbody tr th:only-of-type {\n",
       "        vertical-align: middle;\n",
       "    }\n",
       "\n",
       "    .dataframe tbody tr th {\n",
       "        vertical-align: top;\n",
       "    }\n",
       "\n",
       "    .dataframe thead tr th {\n",
       "        text-align: left;\n",
       "    }\n",
       "</style>\n",
       "<table border=\"1\" class=\"dataframe\">\n",
       "  <thead>\n",
       "    <tr>\n",
       "      <th></th>\n",
       "      <th>origin</th>\n",
       "      <th>destination</th>\n",
       "      <th colspan=\"2\" halign=\"left\">price</th>\n",
       "      <th>demand</th>\n",
       "      <th>travel_time</th>\n",
       "    </tr>\n",
       "    <tr>\n",
       "      <th></th>\n",
       "      <th></th>\n",
       "      <th></th>\n",
       "      <th>count</th>\n",
       "      <th>mean</th>\n",
       "      <th>mean</th>\n",
       "      <th>mean</th>\n",
       "    </tr>\n",
       "  </thead>\n",
       "  <tbody>\n",
       "    <tr>\n",
       "      <th>0</th>\n",
       "      <td>0</td>\n",
       "      <td>2</td>\n",
       "      <td>15</td>\n",
       "      <td>10.00</td>\n",
       "      <td>0.066667</td>\n",
       "      <td>4.0</td>\n",
       "    </tr>\n",
       "    <tr>\n",
       "      <th>1</th>\n",
       "      <td>0</td>\n",
       "      <td>8</td>\n",
       "      <td>15</td>\n",
       "      <td>46.40</td>\n",
       "      <td>0.066667</td>\n",
       "      <td>31.0</td>\n",
       "    </tr>\n",
       "    <tr>\n",
       "      <th>2</th>\n",
       "      <td>1</td>\n",
       "      <td>5</td>\n",
       "      <td>15</td>\n",
       "      <td>16.50</td>\n",
       "      <td>0.133333</td>\n",
       "      <td>10.0</td>\n",
       "    </tr>\n",
       "    <tr>\n",
       "      <th>3</th>\n",
       "      <td>1</td>\n",
       "      <td>7</td>\n",
       "      <td>30</td>\n",
       "      <td>31.95</td>\n",
       "      <td>0.066667</td>\n",
       "      <td>18.5</td>\n",
       "    </tr>\n",
       "    <tr>\n",
       "      <th>4</th>\n",
       "      <td>2</td>\n",
       "      <td>0</td>\n",
       "      <td>15</td>\n",
       "      <td>10.50</td>\n",
       "      <td>0.066667</td>\n",
       "      <td>5.0</td>\n",
       "    </tr>\n",
       "  </tbody>\n",
       "</table>\n",
       "</div>"
      ],
      "text/plain": [
       "  origin destination price           demand travel_time\n",
       "                     count   mean      mean        mean\n",
       "0      0           2    15  10.00  0.066667         4.0\n",
       "1      0           8    15  46.40  0.066667        31.0\n",
       "2      1           5    15  16.50  0.133333        10.0\n",
       "3      1           7    30  31.95  0.066667        18.5\n",
       "4      2           0    15  10.50  0.066667         5.0"
      ]
     },
     "execution_count": 5,
     "metadata": {},
     "output_type": "execute_result"
    }
   ],
   "source": [
    "df_org_dest.head()"
   ]
  },
  {
   "cell_type": "code",
   "execution_count": null,
   "id": "f1ac3b6f-91e3-4cf6-aea2-490a78a46807",
   "metadata": {},
   "outputs": [],
   "source": []
  },
  {
   "cell_type": "code",
   "execution_count": 32,
   "id": "217f9748-f6d9-4edc-b734-2d28b3d380a1",
   "metadata": {},
   "outputs": [
    {
     "data": {
      "text/html": [
       "<div>\n",
       "<style scoped>\n",
       "    .dataframe tbody tr th:only-of-type {\n",
       "        vertical-align: middle;\n",
       "    }\n",
       "\n",
       "    .dataframe tbody tr th {\n",
       "        vertical-align: top;\n",
       "    }\n",
       "\n",
       "    .dataframe thead tr th {\n",
       "        text-align: left;\n",
       "    }\n",
       "\n",
       "    .dataframe thead tr:last-of-type th {\n",
       "        text-align: right;\n",
       "    }\n",
       "</style>\n",
       "<table border=\"1\" class=\"dataframe\">\n",
       "  <thead>\n",
       "    <tr>\n",
       "      <th></th>\n",
       "      <th colspan=\"2\" halign=\"left\">price</th>\n",
       "    </tr>\n",
       "    <tr>\n",
       "      <th></th>\n",
       "      <th>mean</th>\n",
       "      <th>std</th>\n",
       "    </tr>\n",
       "    <tr>\n",
       "      <th>travel_time</th>\n",
       "      <th></th>\n",
       "      <th></th>\n",
       "    </tr>\n",
       "  </thead>\n",
       "  <tbody>\n",
       "    <tr>\n",
       "      <th>3</th>\n",
       "      <td>10.000000</td>\n",
       "      <td>0.000000</td>\n",
       "    </tr>\n",
       "    <tr>\n",
       "      <th>4</th>\n",
       "      <td>10.000000</td>\n",
       "      <td>0.000000</td>\n",
       "    </tr>\n",
       "    <tr>\n",
       "      <th>5</th>\n",
       "      <td>10.328571</td>\n",
       "      <td>0.454828</td>\n",
       "    </tr>\n",
       "    <tr>\n",
       "      <th>6</th>\n",
       "      <td>10.536842</td>\n",
       "      <td>0.772692</td>\n",
       "    </tr>\n",
       "    <tr>\n",
       "      <th>7</th>\n",
       "      <td>11.350000</td>\n",
       "      <td>0.790872</td>\n",
       "    </tr>\n",
       "    <tr>\n",
       "      <th>8</th>\n",
       "      <td>12.346875</td>\n",
       "      <td>1.096298</td>\n",
       "    </tr>\n",
       "    <tr>\n",
       "      <th>9</th>\n",
       "      <td>13.802439</td>\n",
       "      <td>1.731696</td>\n",
       "    </tr>\n",
       "    <tr>\n",
       "      <th>10</th>\n",
       "      <td>14.950000</td>\n",
       "      <td>2.005243</td>\n",
       "    </tr>\n",
       "    <tr>\n",
       "      <th>11</th>\n",
       "      <td>15.780556</td>\n",
       "      <td>1.825274</td>\n",
       "    </tr>\n",
       "    <tr>\n",
       "      <th>12</th>\n",
       "      <td>18.065385</td>\n",
       "      <td>2.589073</td>\n",
       "    </tr>\n",
       "    <tr>\n",
       "      <th>13</th>\n",
       "      <td>20.907692</td>\n",
       "      <td>2.638082</td>\n",
       "    </tr>\n",
       "    <tr>\n",
       "      <th>14</th>\n",
       "      <td>22.188889</td>\n",
       "      <td>3.026627</td>\n",
       "    </tr>\n",
       "    <tr>\n",
       "      <th>15</th>\n",
       "      <td>23.152381</td>\n",
       "      <td>2.794151</td>\n",
       "    </tr>\n",
       "    <tr>\n",
       "      <th>16</th>\n",
       "      <td>25.745455</td>\n",
       "      <td>3.559519</td>\n",
       "    </tr>\n",
       "    <tr>\n",
       "      <th>17</th>\n",
       "      <td>27.573684</td>\n",
       "      <td>2.521913</td>\n",
       "    </tr>\n",
       "    <tr>\n",
       "      <th>18</th>\n",
       "      <td>26.933333</td>\n",
       "      <td>3.532894</td>\n",
       "    </tr>\n",
       "    <tr>\n",
       "      <th>19</th>\n",
       "      <td>31.762500</td>\n",
       "      <td>3.123886</td>\n",
       "    </tr>\n",
       "    <tr>\n",
       "      <th>20</th>\n",
       "      <td>33.000000</td>\n",
       "      <td>6.065032</td>\n",
       "    </tr>\n",
       "    <tr>\n",
       "      <th>21</th>\n",
       "      <td>32.766667</td>\n",
       "      <td>0.985117</td>\n",
       "    </tr>\n",
       "    <tr>\n",
       "      <th>22</th>\n",
       "      <td>34.525000</td>\n",
       "      <td>4.387217</td>\n",
       "    </tr>\n",
       "    <tr>\n",
       "      <th>23</th>\n",
       "      <td>35.500000</td>\n",
       "      <td>2.949576</td>\n",
       "    </tr>\n",
       "    <tr>\n",
       "      <th>24</th>\n",
       "      <td>31.900000</td>\n",
       "      <td>1.627352</td>\n",
       "    </tr>\n",
       "    <tr>\n",
       "      <th>25</th>\n",
       "      <td>39.400000</td>\n",
       "      <td>0.000000</td>\n",
       "    </tr>\n",
       "    <tr>\n",
       "      <th>27</th>\n",
       "      <td>40.700000</td>\n",
       "      <td>3.559833</td>\n",
       "    </tr>\n",
       "    <tr>\n",
       "      <th>28</th>\n",
       "      <td>46.400000</td>\n",
       "      <td>0.000000</td>\n",
       "    </tr>\n",
       "    <tr>\n",
       "      <th>31</th>\n",
       "      <td>44.600000</td>\n",
       "      <td>1.830771</td>\n",
       "    </tr>\n",
       "    <tr>\n",
       "      <th>33</th>\n",
       "      <td>55.000000</td>\n",
       "      <td>0.000000</td>\n",
       "    </tr>\n",
       "    <tr>\n",
       "      <th>55</th>\n",
       "      <td>69.400000</td>\n",
       "      <td>0.000000</td>\n",
       "    </tr>\n",
       "  </tbody>\n",
       "</table>\n",
       "</div>"
      ],
      "text/plain": [
       "                 price          \n",
       "                  mean       std\n",
       "travel_time                     \n",
       "3            10.000000  0.000000\n",
       "4            10.000000  0.000000\n",
       "5            10.328571  0.454828\n",
       "6            10.536842  0.772692\n",
       "7            11.350000  0.790872\n",
       "8            12.346875  1.096298\n",
       "9            13.802439  1.731696\n",
       "10           14.950000  2.005243\n",
       "11           15.780556  1.825274\n",
       "12           18.065385  2.589073\n",
       "13           20.907692  2.638082\n",
       "14           22.188889  3.026627\n",
       "15           23.152381  2.794151\n",
       "16           25.745455  3.559519\n",
       "17           27.573684  2.521913\n",
       "18           26.933333  3.532894\n",
       "19           31.762500  3.123886\n",
       "20           33.000000  6.065032\n",
       "21           32.766667  0.985117\n",
       "22           34.525000  4.387217\n",
       "23           35.500000  2.949576\n",
       "24           31.900000  1.627352\n",
       "25           39.400000  0.000000\n",
       "27           40.700000  3.559833\n",
       "28           46.400000  0.000000\n",
       "31           44.600000  1.830771\n",
       "33           55.000000  0.000000\n",
       "55           69.400000  0.000000"
      ]
     },
     "execution_count": 32,
     "metadata": {},
     "output_type": "execute_result"
    }
   ],
   "source": [
    "df.groupby(\"travel_time\").agg({\"price\": [\"mean\",\"std\"]})"
   ]
  },
  {
   "cell_type": "code",
   "execution_count": 6,
   "id": "64eda33d-14c8-4bba-b6b2-deef4c121205",
   "metadata": {},
   "outputs": [],
   "source": [
    "df_org_dest.columns = df_org_dest.columns.droplevel(0)\n",
    "df_org_dest.columns = [\"Origin\", \"Destination\", \"count\", \"mean_price\", \"mean_demand\", \"mean_travel_time\"]"
   ]
  },
  {
   "cell_type": "code",
   "execution_count": 7,
   "id": "cc9a2914-61e1-4f91-af30-7109023d7e63",
   "metadata": {},
   "outputs": [
    {
     "data": {
      "text/html": [
       "<div>\n",
       "<style scoped>\n",
       "    .dataframe tbody tr th:only-of-type {\n",
       "        vertical-align: middle;\n",
       "    }\n",
       "\n",
       "    .dataframe tbody tr th {\n",
       "        vertical-align: top;\n",
       "    }\n",
       "\n",
       "    .dataframe thead th {\n",
       "        text-align: right;\n",
       "    }\n",
       "</style>\n",
       "<table border=\"1\" class=\"dataframe\">\n",
       "  <thead>\n",
       "    <tr style=\"text-align: right;\">\n",
       "      <th></th>\n",
       "      <th>time_stamp</th>\n",
       "      <th>origin</th>\n",
       "      <th>destination</th>\n",
       "      <th>demand</th>\n",
       "      <th>travel_time</th>\n",
       "      <th>price</th>\n",
       "    </tr>\n",
       "  </thead>\n",
       "  <tbody>\n",
       "    <tr>\n",
       "      <th>count</th>\n",
       "      <td>5370.000000</td>\n",
       "      <td>5370.000000</td>\n",
       "      <td>5370.000000</td>\n",
       "      <td>5370.000000</td>\n",
       "      <td>5370.000000</td>\n",
       "      <td>5370.000000</td>\n",
       "    </tr>\n",
       "    <tr>\n",
       "      <th>mean</th>\n",
       "      <td>1230.296089</td>\n",
       "      <td>6.237430</td>\n",
       "      <td>5.737430</td>\n",
       "      <td>0.385661</td>\n",
       "      <td>11.977654</td>\n",
       "      <td>18.692179</td>\n",
       "    </tr>\n",
       "    <tr>\n",
       "      <th>std</th>\n",
       "      <td>51.039938</td>\n",
       "      <td>2.014673</td>\n",
       "      <td>2.372853</td>\n",
       "      <td>0.496670</td>\n",
       "      <td>5.371075</td>\n",
       "      <td>8.274623</td>\n",
       "    </tr>\n",
       "    <tr>\n",
       "      <th>min</th>\n",
       "      <td>1140.000000</td>\n",
       "      <td>0.000000</td>\n",
       "      <td>0.000000</td>\n",
       "      <td>0.066667</td>\n",
       "      <td>3.000000</td>\n",
       "      <td>10.000000</td>\n",
       "    </tr>\n",
       "    <tr>\n",
       "      <th>25%</th>\n",
       "      <td>1186.000000</td>\n",
       "      <td>5.000000</td>\n",
       "      <td>4.000000</td>\n",
       "      <td>0.066667</td>\n",
       "      <td>9.000000</td>\n",
       "      <td>12.800000</td>\n",
       "    </tr>\n",
       "    <tr>\n",
       "      <th>50%</th>\n",
       "      <td>1232.000000</td>\n",
       "      <td>7.000000</td>\n",
       "      <td>6.000000</td>\n",
       "      <td>0.133333</td>\n",
       "      <td>11.000000</td>\n",
       "      <td>15.700000</td>\n",
       "    </tr>\n",
       "    <tr>\n",
       "      <th>75%</th>\n",
       "      <td>1273.000000</td>\n",
       "      <td>8.000000</td>\n",
       "      <td>8.000000</td>\n",
       "      <td>0.466667</td>\n",
       "      <td>15.000000</td>\n",
       "      <td>22.700000</td>\n",
       "    </tr>\n",
       "    <tr>\n",
       "      <th>max</th>\n",
       "      <td>1319.000000</td>\n",
       "      <td>9.000000</td>\n",
       "      <td>9.000000</td>\n",
       "      <td>2.333333</td>\n",
       "      <td>55.000000</td>\n",
       "      <td>69.400000</td>\n",
       "    </tr>\n",
       "  </tbody>\n",
       "</table>\n",
       "</div>"
      ],
      "text/plain": [
       "        time_stamp       origin  destination       demand  travel_time  \\\n",
       "count  5370.000000  5370.000000  5370.000000  5370.000000  5370.000000   \n",
       "mean   1230.296089     6.237430     5.737430     0.385661    11.977654   \n",
       "std      51.039938     2.014673     2.372853     0.496670     5.371075   \n",
       "min    1140.000000     0.000000     0.000000     0.066667     3.000000   \n",
       "25%    1186.000000     5.000000     4.000000     0.066667     9.000000   \n",
       "50%    1232.000000     7.000000     6.000000     0.133333    11.000000   \n",
       "75%    1273.000000     8.000000     8.000000     0.466667    15.000000   \n",
       "max    1319.000000     9.000000     9.000000     2.333333    55.000000   \n",
       "\n",
       "             price  \n",
       "count  5370.000000  \n",
       "mean     18.692179  \n",
       "std       8.274623  \n",
       "min      10.000000  \n",
       "25%      12.800000  \n",
       "50%      15.700000  \n",
       "75%      22.700000  \n",
       "max      69.400000  "
      ]
     },
     "execution_count": 7,
     "metadata": {},
     "output_type": "execute_result"
    }
   ],
   "source": [
    "df.describe()"
   ]
  },
  {
   "cell_type": "code",
   "execution_count": 8,
   "id": "e7c8d399-ffb5-4b4b-8ec9-029793ba533b",
   "metadata": {},
   "outputs": [
    {
     "name": "stdout",
     "output_type": "stream",
     "text": [
      "Origin nodes: [0 1 2 3 4 5 6 7 8 9]\n",
      "Destination nodes: [0 1 2 3 4 5 6 7 8 9]\n"
     ]
    }
   ],
   "source": [
    "print(f\"Origin nodes: {np.sort(df.origin.unique())}\")\n",
    "print(f\"Destination nodes: {np.sort(df.destination.unique())}\")"
   ]
  },
  {
   "cell_type": "markdown",
   "id": "91848182-845a-40bd-9d48-5742fb15e11b",
   "metadata": {},
   "source": [
    "# Grid analysis"
   ]
  },
  {
   "cell_type": "code",
   "execution_count": 9,
   "id": "7dd3e1c1-f776-439c-ab22-64e50091251c",
   "metadata": {},
   "outputs": [],
   "source": [
    "pivot_df = df_org_dest.pivot(index='Origin', columns='Destination', values='count').T\n",
    "pivot_df = pivot_df"
   ]
  },
  {
   "cell_type": "code",
   "execution_count": 10,
   "id": "bce95db1-c491-413e-b1b0-5a42d8da7b9b",
   "metadata": {},
   "outputs": [
    {
     "data": {
      "image/png": "[encoded data removed]",
      "text/plain": [
       "<Figure size 640x480 with 2 Axes>"
      ]
     },
     "metadata": {},
     "output_type": "display_data"
    }
   ],
   "source": [
    "sns.heatmap(pivot_df.iloc[::-1], annot=False, fmt=\"d\")\n",
    "plt.title('Distribution of trips')\n",
    "plt.xlabel(pivot_df.columns.name)\n",
    "plt.ylabel(pivot_df.index.name)\n",
    "plt.show()"
   ]
  },
  {
   "cell_type": "code",
   "execution_count": 11,
   "id": "26155821-7ce5-4aa0-aaaf-d5177f78e020",
   "metadata": {},
   "outputs": [],
   "source": [
    "mean_demand_matrix = df.groupby(\"origin\")[\"demand\"].mean().values.reshape(1,pivot_df.shape[1])"
   ]
  },
  {
   "cell_type": "code",
   "execution_count": 12,
   "id": "671664e7-7700-484b-b5b8-6145152816d9",
   "metadata": {},
   "outputs": [
    {
     "data": {
      "text/plain": [
       "array([[0.06666667, 0.08888889, 0.06666667, 0.07948718, 0.12291667,\n",
       "        0.39411765, 0.12413793, 0.36811594, 0.75641026, 0.37984496]])"
      ]
     },
     "execution_count": 12,
     "metadata": {},
     "output_type": "execute_result"
    }
   ],
   "source": [
    "mean_demand_matrix"
   ]
  },
  {
   "cell_type": "code",
   "execution_count": 13,
   "id": "acc86d02-d277-41fd-bf34-dc1a4f74cc4b",
   "metadata": {},
   "outputs": [
    {
     "data": {
      "image/png": "[encoded data removed]",
      "text/plain": [
       "<Figure size 1000x800 with 2 Axes>"
      ]
     },
     "metadata": {},
     "output_type": "display_data"
    }
   ],
   "source": [
    "plt.figure(figsize=(10, 8))\n",
    "sns.heatmap(mean_demand_matrix.reshape(2,5), annot=True, fmt=\".2f\", cmap=\"YlGnBu\", cbar_kws={'label': 'Mean Demand'}, annot_kws={\"size\": 12})\n",
    "plt.title('Heatmap of Mean Demand in Each Grid')\n",
    "plt.xlabel('Longitude Grid')\n",
    "plt.ylabel('Latitude Grid')\n",
    "plt.show()"
   ]
  },
  {
   "cell_type": "markdown",
   "id": "93d4bf18-3442-40a4-92c6-80726802ad1b",
   "metadata": {},
   "source": [
    "# Travel time analysis"
   ]
  },
  {
   "cell_type": "code",
   "execution_count": 14,
   "id": "029b4a60-67e7-4069-a602-c9abdbeb1059",
   "metadata": {},
   "outputs": [
    {
     "data": {
      "image/png": "[encoded data removed]",
      "text/plain": [
       "<Figure size 640x480 with 1 Axes>"
      ]
     },
     "metadata": {},
     "output_type": "display_data"
    }
   ],
   "source": [
    "x = np.linspace(0, 100, 1000)\n",
    "fitted_params = lognorm.fit(df[\"travel_time\"])\n",
    "sns.histplot(df[\"travel_time\"], bins=70, stat=\"density\")\n",
    "plt.plot(x, lognorm(*fitted_params).pdf(x), color=\"#2F4550\")\n",
    "plt.title(\"Distribution of travel time\")\n",
    "plt.show()"
   ]
  },
  {
   "cell_type": "markdown",
   "id": "a5bb3741-1314-4093-a5a2-ecd28fd83eab",
   "metadata": {},
   "source": [
    "# Price analysis"
   ]
  },
  {
   "cell_type": "code",
   "execution_count": 15,
   "id": "1d013b52-37c4-4021-89d0-19c4ab5b9cbd",
   "metadata": {},
   "outputs": [
    {
     "data": {
      "image/png": "[encoded data removed]",
      "text/plain": [
       "<Figure size 640x480 with 1 Axes>"
      ]
     },
     "metadata": {},
     "output_type": "display_data"
    }
   ],
   "source": [
    "x = np.linspace(0, 100, 1000)\n",
    "fitted_params = lognorm.fit(df[\"price\"])\n",
    "sns.histplot(df[\"price\"], bins=70, stat=\"density\")\n",
    "plt.plot(x, lognorm(*fitted_params).pdf(x), color=\"#2F4550\")\n",
    "plt.title(\"Distribution of price\")\n",
    "plt.show()"
   ]
  },
  {
   "cell_type": "code",
   "execution_count": 16,
   "id": "1225248a-cfc7-42d1-8243-22dcc96a75ba",
   "metadata": {},
   "outputs": [],
   "source": [
    "pred_df = df.copy()"
   ]
  },
  {
   "cell_type": "code",
   "execution_count": 17,
   "id": "badfd7d9-21e6-43bc-94a1-37165689a496",
   "metadata": {},
   "outputs": [],
   "source": [
    "pred_df[\"poly_travel_time\"] = pred_df[\"travel_time\"]**2\n",
    "pred_df[\"poly_demand\"] = pred_df[\"demand\"]**2\n",
    "pred_df[\"log_price\"] = np.log(pred_df[\"price\"])"
   ]
  },
  {
   "cell_type": "code",
   "execution_count": 28,
   "id": "4a26c314-3fcd-4835-af15-fb592f570b0b",
   "metadata": {},
   "outputs": [],
   "source": [
    "glm_model = smf.glm(formula=\"price ~ travel_time\", data=pred_df, family=sm.families.Gaussian())"
   ]
  },
  {
   "cell_type": "code",
   "execution_count": 29,
   "id": "b1eb71f7-3458-48a7-bb14-93dee7ee3129",
   "metadata": {},
   "outputs": [],
   "source": [
    "fitted_glm = glm_model.fit()"
   ]
  },
  {
   "cell_type": "code",
   "execution_count": 30,
   "id": "ffad7b24-6150-464c-bf9a-8a0e750aacd6",
   "metadata": {},
   "outputs": [
    {
     "data": {
      "text/html": [
       "<table class=\"simpletable\">\n",
       "<caption>Generalized Linear Model Regression Results</caption>\n",
       "<tr>\n",
       "  <th>Dep. Variable:</th>         <td>price</td>      <th>  No. Observations:  </th>  <td>  5370</td> \n",
       "</tr>\n",
       "<tr>\n",
       "  <th>Model:</th>                  <td>GLM</td>       <th>  Df Residuals:      </th>  <td>  5368</td> \n",
       "</tr>\n",
       "<tr>\n",
       "  <th>Model Family:</th>        <td>Gaussian</td>     <th>  Df Model:          </th>  <td>     1</td> \n",
       "</tr>\n",
       "<tr>\n",
       "  <th>Link Function:</th>       <td>Identity</td>     <th>  Scale:             </th> <td>  7.4242</td>\n",
       "</tr>\n",
       "<tr>\n",
       "  <th>Method:</th>                <td>IRLS</td>       <th>  Log-Likelihood:    </th> <td> -13001.</td>\n",
       "</tr>\n",
       "<tr>\n",
       "  <th>Date:</th>            <td>Tue, 05 Dec 2023</td> <th>  Deviance:          </th> <td>  39853.</td>\n",
       "</tr>\n",
       "<tr>\n",
       "  <th>Time:</th>                <td>09:30:22</td>     <th>  Pearson chi2:      </th> <td>3.99e+04</td>\n",
       "</tr>\n",
       "<tr>\n",
       "  <th>No. Iterations:</th>          <td>3</td>        <th>  Pseudo R-squ. (CS):</th>  <td>0.9997</td> \n",
       "</tr>\n",
       "<tr>\n",
       "  <th>Covariance Type:</th>     <td>nonrobust</td>    <th>                     </th>     <td> </td>   \n",
       "</tr>\n",
       "</table>\n",
       "<table class=\"simpletable\">\n",
       "<tr>\n",
       "       <td></td>          <th>coef</th>     <th>std err</th>      <th>z</th>      <th>P>|z|</th>  <th>[0.025</th>    <th>0.975]</th>  \n",
       "</tr>\n",
       "<tr>\n",
       "  <th>Intercept</th>   <td>    1.2684</td> <td>    0.091</td> <td>   13.957</td> <td> 0.000</td> <td>    1.090</td> <td>    1.447</td>\n",
       "</tr>\n",
       "<tr>\n",
       "  <th>travel_time</th> <td>    1.4547</td> <td>    0.007</td> <td>  210.113</td> <td> 0.000</td> <td>    1.441</td> <td>    1.468</td>\n",
       "</tr>\n",
       "</table>"
      ],
      "text/latex": [
       "\\begin{center}\n",
       "\\begin{tabular}{lclc}\n",
       "\\toprule\n",
       "\\textbf{Dep. Variable:}   &      price       & \\textbf{  No. Observations:  } &     5370    \\\\\n",
       "\\textbf{Model:}           &       GLM        & \\textbf{  Df Residuals:      } &     5368    \\\\\n",
       "\\textbf{Model Family:}    &     Gaussian     & \\textbf{  Df Model:          } &        1    \\\\\n",
       "\\textbf{Link Function:}   &     Identity     & \\textbf{  Scale:             } &    7.4242   \\\\\n",
       "\\textbf{Method:}          &       IRLS       & \\textbf{  Log-Likelihood:    } &   -13001.   \\\\\n",
       "\\textbf{Date:}            & Tue, 05 Dec 2023 & \\textbf{  Deviance:          } &    39853.   \\\\\n",
       "\\textbf{Time:}            &     09:30:22     & \\textbf{  Pearson chi2:      } &  3.99e+04   \\\\\n",
       "\\textbf{No. Iterations:}  &        3         & \\textbf{  Pseudo R-squ. (CS):} &   0.9997    \\\\\n",
       "\\textbf{Covariance Type:} &    nonrobust     & \\textbf{                     } &             \\\\\n",
       "\\bottomrule\n",
       "\\end{tabular}\n",
       "\\begin{tabular}{lcccccc}\n",
       "                      & \\textbf{coef} & \\textbf{std err} & \\textbf{z} & \\textbf{P$> |$z$|$} & \\textbf{[0.025} & \\textbf{0.975]}  \\\\\n",
       "\\midrule\n",
       "\\textbf{Intercept}    &       1.2684  &        0.091     &    13.957  &         0.000        &        1.090    &        1.447     \\\\\n",
       "\\textbf{travel\\_time} &       1.4547  &        0.007     &   210.113  &         0.000        &        1.441    &        1.468     \\\\\n",
       "\\bottomrule\n",
       "\\end{tabular}\n",
       "%\\caption{Generalized Linear Model Regression Results}\n",
       "\\end{center}"
      ],
      "text/plain": [
       "<class 'statsmodels.iolib.summary.Summary'>\n",
       "\"\"\"\n",
       "                 Generalized Linear Model Regression Results                  \n",
       "==============================================================================\n",
       "Dep. Variable:                  price   No. Observations:                 5370\n",
       "Model:                            GLM   Df Residuals:                     5368\n",
       "Model Family:                Gaussian   Df Model:                            1\n",
       "Link Function:               Identity   Scale:                          7.4242\n",
       "Method:                          IRLS   Log-Likelihood:                -13001.\n",
       "Date:                Tue, 05 Dec 2023   Deviance:                       39853.\n",
       "Time:                        09:30:22   Pearson chi2:                 3.99e+04\n",
       "No. Iterations:                     3   Pseudo R-squ. (CS):             0.9997\n",
       "Covariance Type:            nonrobust                                         \n",
       "===============================================================================\n",
       "                  coef    std err          z      P>|z|      [0.025      0.975]\n",
       "-------------------------------------------------------------------------------\n",
       "Intercept       1.2684      0.091     13.957      0.000       1.090       1.447\n",
       "travel_time     1.4547      0.007    210.113      0.000       1.441       1.468\n",
       "===============================================================================\n",
       "\"\"\""
      ]
     },
     "execution_count": 30,
     "metadata": {},
     "output_type": "execute_result"
    }
   ],
   "source": [
    "fitted_glm.summary()"
   ]
  },
  {
   "cell_type": "code",
   "execution_count": 21,
   "id": "70079ad9-3764-4539-9cef-570876dd702c",
   "metadata": {},
   "outputs": [
    {
     "data": {
      "image/png": "[encoded data removed]",
      "text/plain": [
       "<Figure size 640x480 with 1 Axes>"
      ]
     },
     "metadata": {},
     "output_type": "display_data"
    }
   ],
   "source": [
    "plt.scatter(pred_df[\"price\"], pred_df[\"price\"] - fitted_glm.predict())\n",
    "plt.hlines(y=0, xmin=1, xmax=120, color=\"#2F4550\")\n",
    "plt.xlabel(\"Price\")\n",
    "plt.ylabel(\"Pearson Residual\")\n",
    "plt.title(\"Residuals of GLM\")\n",
    "plt.show()"
   ]
  },
  {
   "cell_type": "markdown",
   "id": "8ddd8bfb-9f21-49d1-8237-773e447ceff9",
   "metadata": {},
   "source": [
    "# Predicting demand"
   ]
  },
  {
   "cell_type": "code",
   "execution_count": 22,
   "id": "33b4df58-d94d-4fb8-b7d6-94814e7d75cd",
   "metadata": {},
   "outputs": [],
   "source": [
    "def model_2(vars, price):\n",
    "    alpha, beta = vars\n",
    "    demand_hat = np.exp(alpha + beta * price)\n",
    "    return demand_hat"
   ]
  },
  {
   "cell_type": "code",
   "execution_count": 23,
   "id": "73bc646e-7e88-41db-b93f-bdfc8f0b7c73",
   "metadata": {},
   "outputs": [],
   "source": [
    "def mse_model2(vars, price, demand):\n",
    "    demand_hat = model_2(vars, price)\n",
    "    return np.mean((demand-demand_hat)**2)"
   ]
  },
  {
   "cell_type": "code",
   "execution_count": 24,
   "id": "a363f8ae-c3e3-4fff-acda-f7ce59e502d8",
   "metadata": {},
   "outputs": [],
   "source": [
    "x0 = (5,-0.6)\n",
    "res = minimize(mse_model2, x0, args=(df.price, df.demand), tol=1e-3, method=\"Powell\")"
   ]
  },
  {
   "cell_type": "code",
   "execution_count": 25,
   "id": "e8929e4b-f738-4931-8d21-a830d547a6d1",
   "metadata": {},
   "outputs": [
    {
     "data": {
      "text/plain": [
       " message: Optimization terminated successfully.\n",
       " success: True\n",
       "  status: 0\n",
       "     fun: 0.2234310895420389\n",
       "       x: [ 6.812e-02 -5.828e-02]\n",
       "     nit: 6\n",
       "   direc: [[-3.076e+00  3.588e-01]\n",
       "           [-3.967e-01  2.684e-02]]\n",
       "    nfev: 154"
      ]
     },
     "execution_count": 25,
     "metadata": {},
     "output_type": "execute_result"
    }
   ],
   "source": [
    "res"
   ]
  },
  {
   "cell_type": "code",
   "execution_count": 26,
   "id": "45ab1fdc-04b4-405f-bd6d-6f878fe265cb",
   "metadata": {},
   "outputs": [
    {
     "data": {
      "text/plain": [
       "array([ 0.06811853, -0.05827745])"
      ]
     },
     "execution_count": 26,
     "metadata": {},
     "output_type": "execute_result"
    }
   ],
   "source": [
    "res.x"
   ]
  },
  {
   "cell_type": "code",
   "execution_count": 27,
   "id": "91ef74d3-c5b0-476c-810a-506d9023a48b",
   "metadata": {},
   "outputs": [
    {
     "data": {
      "text/plain": [
       "<matplotlib.collections.PathCollection at 0x7f52a1a988b0>"
      ]
     },
     "execution_count": 27,
     "metadata": {},
     "output_type": "execute_result"
    },
    {
     "data": {
      "image/png": "[encoded data removed]",
      "text/plain": [
       "<Figure size 640x480 with 1 Axes>"
      ]
     },
     "metadata": {},
     "output_type": "display_data"
    }
   ],
   "source": [
    "plt.plot(df.price.sort_values(ascending=False).values, model_2(res.x, df.price.sort_values(ascending=False).values), color=\"red\")\n",
    "plt.scatter(df.price.sort_values(ascending=False).values,df.sort_values(\"price\", ascending=False).demand.values)"
   ]
  },
  {
   "cell_type": "code",
   "execution_count": null,
   "id": "d0a0294d-e4d1-4afc-9bf5-14cd2b9ff97e",
   "metadata": {},
   "outputs": [],
   "source": []
  },
  {
   "cell_type": "code",
   "execution_count": null,
   "id": "57967eff-2c31-421b-92e1-2253ec9242d3",
   "metadata": {},
   "outputs": [],
   "source": []
  },
  {
   "cell_type": "code",
   "execution_count": null,
   "id": "4c29a7af-51a6-4fb4-9127-dcee3e27c057",
   "metadata": {},
   "outputs": [],
   "source": []
  }
 ],
 "metadata": {
  "kernelspec": {
   "display_name": "Python 3 (ipykernel)",
   "language": "python",
   "name": "python3"
  },
  "language_info": {
   "codemirror_mode": {
    "name": "ipython",
    "version": 3
   },
   "file_extension": ".py",
   "mimetype": "text/x-python",
   "name": "python",
   "nbconvert_exporter": "python",
   "pygments_lexer": "ipython3",
   "version": "3.10.4"
  }
 },
 "nbformat": 4,
 "nbformat_minor": 5
}
